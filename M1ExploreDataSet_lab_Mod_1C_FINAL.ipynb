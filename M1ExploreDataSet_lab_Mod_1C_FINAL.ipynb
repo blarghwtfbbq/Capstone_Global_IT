{
  "cells": [
    {
      "cell_type": "markdown",
      "metadata": {
        "id": "DtgHdNWcSIVq"
      },
      "source": [
        "<p style=\"text-align:center\">\n",
        "    <a href=\"https://skills.network/?utm_medium=Exinfluencer&utm_source=Exinfluencer&utm_content=000026UJ&utm_term=10006555&utm_id=NA-SkillsNetwork-Channel-SkillsNetworkCoursesIBMDA0321ENSkillsNetwork928-2022-01-01\" target=\"_blank\">\n",
        "    <img src=\"https://cf-courses-data.s3.us.cloud-object-storage.appdomain.cloud/assets/logos/SN_web_lightmode.png\" width=\"200\" alt=\"Skills Network Logo\"  />\n",
        "    </a>\n",
        "</p>\n"
      ]
    },
    {
      "cell_type": "markdown",
      "metadata": {
        "id": "BjE2wSwfSIV7"
      },
      "source": [
        "# **Survey Dataset Exploration Lab**\n"
      ]
    },
    {
      "cell_type": "markdown",
      "metadata": {
        "id": "lcoQXoi4SIV8"
      },
      "source": [
        "Estimated time needed: **30** minutes\n"
      ]
    },
    {
      "cell_type": "markdown",
      "metadata": {
        "id": "kd7ddf04SIWB"
      },
      "source": [
        "## Objectives\n"
      ]
    },
    {
      "cell_type": "markdown",
      "metadata": {
        "id": "RXib-SaxSIWB"
      },
      "source": [
        "After completing this lab you will be able to:\n"
      ]
    },
    {
      "cell_type": "markdown",
      "metadata": {
        "id": "dzTbB3NySIWC"
      },
      "source": [
        "-   Load the dataset that will used thru the capstone project.\n",
        "-   Explore the dataset.\n",
        "-   Get familier with the data types.\n"
      ]
    },
    {
      "cell_type": "markdown",
      "metadata": {
        "id": "NT9D1dI8SIWC"
      },
      "source": [
        "## Load the dataset\n"
      ]
    },
    {
      "cell_type": "markdown",
      "metadata": {
        "id": "0xmIMK41SIWF"
      },
      "source": [
        "Import the required libraries.\n"
      ]
    },
    {
      "cell_type": "code",
      "execution_count": 1,
      "metadata": {
        "id": "oPEzdqpqSIWR"
      },
      "outputs": [],
      "source": [
        "import pandas as pd"
      ]
    },
    {
      "cell_type": "markdown",
      "metadata": {
        "id": "yjdZya6YSIWS"
      },
      "source": [
        "The dataset is available on the IBM Cloud at the below url.\n"
      ]
    },
    {
      "cell_type": "code",
      "execution_count": 2,
      "metadata": {
        "id": "n_8Z0P6cSIWT"
      },
      "outputs": [],
      "source": [
        "dataset_url = \"https://cf-courses-data.s3.us.cloud-object-storage.appdomain.cloud/IBM-DA0321EN-SkillsNetwork/LargeData/m1_survey_data.csv\""
      ]
    },
    {
      "cell_type": "markdown",
      "metadata": {
        "id": "taoc5d87SIWT"
      },
      "source": [
        "Load the data available at dataset_url into a dataframe.\n"
      ]
    },
    {
      "cell_type": "code",
      "execution_count": 5,
      "metadata": {
        "id": "DDfuMr5pSIWU"
      },
      "outputs": [],
      "source": [
        "# your code goes here\n",
        "\n",
        "import pandas as pd\n",
        "\n",
        "# The dataset is available at the following URL\n",
        "dataset_url = \"https://cf-courses-data.s3.us.cloud-object-storage.appdomain.cloud/IBM-DA0321EN-SkillsNetwork/LargeData/m1_survey_data.csv\"\n",
        "\n",
        "# Load the data into a DataFrame\n",
        "df = pd.read_csv(dataset_url)\n"
      ]
    },
    {
      "cell_type": "markdown",
      "metadata": {
        "id": "cJTqyKZKSIWU"
      },
      "source": [
        "## Explore the data set\n"
      ]
    },
    {
      "cell_type": "markdown",
      "metadata": {
        "id": "famiQv0KSIWV"
      },
      "source": [
        "It is a good idea to print the top 5 rows of the dataset to get a feel of how the dataset will look.\n"
      ]
    },
    {
      "cell_type": "markdown",
      "metadata": {
        "id": "WZEaoYLPSIWV"
      },
      "source": [
        "Display the top 5 rows and columns from your dataset.\n"
      ]
    },
    {
      "cell_type": "code",
      "execution_count": 4,
      "metadata": {
        "colab": {
          "base_uri": "https://localhost:8080/"
        },
        "id": "07WUnXE6SIWV",
        "outputId": "6e8f8c8f-3baa-4087-83f2-cd7ab2c7f6b1"
      },
      "outputs": [
        {
          "output_type": "stream",
          "name": "stdout",
          "text": [
            "   Respondent                      MainBranch Hobbyist  \\\n",
            "0           4  I am a developer by profession       No   \n",
            "1           9  I am a developer by profession      Yes   \n",
            "2          13  I am a developer by profession      Yes   \n",
            "3          16  I am a developer by profession      Yes   \n",
            "4          17  I am a developer by profession      Yes   \n",
            "\n",
            "                                         OpenSourcer  \\\n",
            "0                                              Never   \n",
            "1                         Once a month or more often   \n",
            "2  Less than once a month but more than once per ...   \n",
            "3                                              Never   \n",
            "4  Less than once a month but more than once per ...   \n",
            "\n",
            "                                          OpenSource          Employment  \\\n",
            "0  The quality of OSS and closed source software ...  Employed full-time   \n",
            "1  The quality of OSS and closed source software ...  Employed full-time   \n",
            "2  OSS is, on average, of HIGHER quality than pro...  Employed full-time   \n",
            "3  The quality of OSS and closed source software ...  Employed full-time   \n",
            "4  The quality of OSS and closed source software ...  Employed full-time   \n",
            "\n",
            "          Country Student                                            EdLevel  \\\n",
            "0   United States      No           Bachelor’s degree (BA, BS, B.Eng., etc.)   \n",
            "1     New Zealand      No  Some college/university study without earning ...   \n",
            "2   United States      No        Master’s degree (MA, MS, M.Eng., MBA, etc.)   \n",
            "3  United Kingdom      No        Master’s degree (MA, MS, M.Eng., MBA, etc.)   \n",
            "4       Australia      No           Bachelor’s degree (BA, BS, B.Eng., etc.)   \n",
            "\n",
            "                                      UndergradMajor  ...  \\\n",
            "0  Computer science, computer engineering, or sof...  ...   \n",
            "1  Computer science, computer engineering, or sof...  ...   \n",
            "2  Computer science, computer engineering, or sof...  ...   \n",
            "3                                                NaN  ...   \n",
            "4  Computer science, computer engineering, or sof...  ...   \n",
            "\n",
            "                              WelcomeChange  \\\n",
            "0   Just as welcome now as I felt last year   \n",
            "1   Just as welcome now as I felt last year   \n",
            "2  Somewhat more welcome now than last year   \n",
            "3   Just as welcome now as I felt last year   \n",
            "4   Just as welcome now as I felt last year   \n",
            "\n",
            "                                        SONewContent   Age Gender Trans  \\\n",
            "0  Tech articles written by other developers;Indu...  22.0    Man    No   \n",
            "1                                                NaN  23.0    Man    No   \n",
            "2  Tech articles written by other developers;Cour...  28.0    Man    No   \n",
            "3  Tech articles written by other developers;Indu...  26.0    Man    No   \n",
            "4  Tech articles written by other developers;Indu...  29.0    Man    No   \n",
            "\n",
            "                 Sexuality                              Ethnicity Dependents  \\\n",
            "0  Straight / Heterosexual           White or of European descent         No   \n",
            "1                 Bisexual           White or of European descent         No   \n",
            "2  Straight / Heterosexual           White or of European descent        Yes   \n",
            "3  Straight / Heterosexual           White or of European descent         No   \n",
            "4  Straight / Heterosexual  Hispanic or Latino/Latina;Multiracial         No   \n",
            "\n",
            "            SurveyLength                  SurveyEase  \n",
            "0  Appropriate in length                        Easy  \n",
            "1  Appropriate in length  Neither easy nor difficult  \n",
            "2  Appropriate in length                        Easy  \n",
            "3  Appropriate in length  Neither easy nor difficult  \n",
            "4  Appropriate in length                        Easy  \n",
            "\n",
            "[5 rows x 85 columns]\n"
          ]
        }
      ],
      "source": [
        "# your code goes here\n",
        "\n",
        "# Display the first few rows of the DataFrame\n",
        "print(df.head())\n"
      ]
    },
    {
      "cell_type": "markdown",
      "metadata": {
        "id": "2IgKu72fSIWW"
      },
      "source": [
        "## Find out the number of rows and columns\n"
      ]
    },
    {
      "cell_type": "markdown",
      "metadata": {
        "id": "jJYyjsWfSIWW"
      },
      "source": [
        "Start by exploring the numbers of rows and columns of data in the dataset.\n"
      ]
    },
    {
      "cell_type": "markdown",
      "metadata": {
        "id": "WeZFtkcVSIWW"
      },
      "source": [
        "Print the number of rows in the dataset.\n"
      ]
    },
    {
      "cell_type": "code",
      "execution_count": 8,
      "metadata": {
        "colab": {
          "base_uri": "https://localhost:8080/"
        },
        "id": "sJwTDE9bSIWW",
        "outputId": "d5a810ff-d06b-4a47-e1b6-e7e4470ac842"
      },
      "outputs": [
        {
          "output_type": "stream",
          "name": "stdout",
          "text": [
            "Number of rows: 11552\n"
          ]
        }
      ],
      "source": [
        "# your code goes here\n",
        "\n",
        "import pandas as pd\n",
        "\n",
        "# The dataset is available at the following URL\n",
        "dataset_url = \"https://cf-courses-data.s3.us.cloud-object-storage.appdomain.cloud/IBM-DA0321EN-SkillsNetwork/LargeData/m1_survey_data.csv\"\n",
        "\n",
        "# Load the data into a DataFrame\n",
        "df = pd.read_csv(dataset_url)\n",
        "\n",
        "# Get the number of rows and columns\n",
        "num_rows, num_columns = df.shape\n",
        "\n",
        "# Print the number of rows and columns\n",
        "print(f\"Number of rows: {num_rows}\")\n"
      ]
    },
    {
      "cell_type": "markdown",
      "metadata": {
        "id": "7ysSwlwySIWX"
      },
      "source": [
        "Print the number of columns in the dataset.\n"
      ]
    },
    {
      "cell_type": "code",
      "execution_count": 7,
      "metadata": {
        "colab": {
          "base_uri": "https://localhost:8080/"
        },
        "id": "Dg9a_ffQSIWX",
        "outputId": "2f790f7d-59a5-4ae6-d369-4e19a5857eec"
      },
      "outputs": [
        {
          "output_type": "stream",
          "name": "stdout",
          "text": [
            "Number of columns: 85\n"
          ]
        }
      ],
      "source": [
        "# your code goes here\n",
        "\n",
        "# Print the number of rows and columns\n",
        "print(f\"Number of columns: {num_columns}\")"
      ]
    },
    {
      "cell_type": "markdown",
      "metadata": {
        "id": "bQhqPE80SIWX"
      },
      "source": [
        "## Identify the data types of each column\n"
      ]
    },
    {
      "cell_type": "markdown",
      "metadata": {
        "id": "yiShdlZCSIWX"
      },
      "source": [
        "Explore the dataset and identify the data types of each column.\n"
      ]
    },
    {
      "cell_type": "markdown",
      "metadata": {
        "id": "Nt_iWhXxSIWY"
      },
      "source": [
        "Print the datatype of all columns.\n"
      ]
    },
    {
      "cell_type": "code",
      "execution_count": 9,
      "metadata": {
        "colab": {
          "base_uri": "https://localhost:8080/"
        },
        "id": "J58ONJt5SIWY",
        "outputId": "97a57485-9352-4306-b1d3-fa0c33d9604f"
      },
      "outputs": [
        {
          "output_type": "stream",
          "name": "stdout",
          "text": [
            "Respondent       int64\n",
            "MainBranch      object\n",
            "Hobbyist        object\n",
            "OpenSourcer     object\n",
            "OpenSource      object\n",
            "                 ...  \n",
            "Sexuality       object\n",
            "Ethnicity       object\n",
            "Dependents      object\n",
            "SurveyLength    object\n",
            "SurveyEase      object\n",
            "Length: 85, dtype: object\n"
          ]
        }
      ],
      "source": [
        "# your code goes here\n",
        "\n",
        "import pandas as pd\n",
        "\n",
        "# The dataset is available at the following URL\n",
        "dataset_url = \"https://cf-courses-data.s3.us.cloud-object-storage.appdomain.cloud/IBM-DA0321EN-SkillsNetwork/LargeData/m1_survey_data.csv\"\n",
        "\n",
        "# Load the data into a DataFrame\n",
        "df = pd.read_csv(dataset_url)\n",
        "\n",
        "# Print the data types of each column\n",
        "print(df.dtypes)\n"
      ]
    },
    {
      "cell_type": "markdown",
      "metadata": {
        "id": "a3yr-DblSIWY"
      },
      "source": [
        "Print the mean age of the survey participants.\n"
      ]
    },
    {
      "cell_type": "code",
      "execution_count": 10,
      "metadata": {
        "colab": {
          "base_uri": "https://localhost:8080/"
        },
        "id": "V7MtdQOmSIWY",
        "outputId": "e91c6091-9158-4d47-ef6b-4dac584e0dad"
      },
      "outputs": [
        {
          "output_type": "stream",
          "name": "stdout",
          "text": [
            "The mean age of the survey participants is: 30.77239449133718\n"
          ]
        }
      ],
      "source": [
        "# your code goes here\n",
        "\n",
        "import pandas as pd\n",
        "\n",
        "# The dataset is available at the following URL\n",
        "dataset_url = \"https://cf-courses-data.s3.us.cloud-object-storage.appdomain.cloud/IBM-DA0321EN-SkillsNetwork/LargeData/m1_survey_data.csv\"\n",
        "\n",
        "# Load the data into a DataFrame\n",
        "df = pd.read_csv(dataset_url)\n",
        "\n",
        "# Calculate the mean age of the survey participants\n",
        "mean_age = df['Age'].mean()\n",
        "\n",
        "# Print the mean age\n",
        "print(f\"The mean age of the survey participants is: {mean_age}\")\n"
      ]
    },
    {
      "cell_type": "markdown",
      "metadata": {
        "id": "2LuPWh0_SIWZ"
      },
      "source": [
        "The dataset is the result of a world wide survey. Print how many unique countries are there in the Country column.\n"
      ]
    },
    {
      "cell_type": "code",
      "execution_count": 11,
      "metadata": {
        "colab": {
          "base_uri": "https://localhost:8080/"
        },
        "id": "ESJDMVd7SIWZ",
        "outputId": "95231e78-70ad-4d28-9e15-1dd6ad8aa469"
      },
      "outputs": [
        {
          "output_type": "stream",
          "name": "stdout",
          "text": [
            "The number of unique countries in the dataset is: 135\n"
          ]
        }
      ],
      "source": [
        "# your code goes here\n",
        "\n",
        "import pandas as pd\n",
        "\n",
        "# The dataset is available at the following URL\n",
        "dataset_url = \"https://cf-courses-data.s3.us.cloud-object-storage.appdomain.cloud/IBM-DA0321EN-SkillsNetwork/LargeData/m1_survey_data.csv\"\n",
        "\n",
        "# Load the data into a DataFrame\n",
        "df = pd.read_csv(dataset_url)\n",
        "\n",
        "# Find the number of unique countries in the 'Country' column\n",
        "unique_countries = df['Country'].nunique()\n",
        "\n",
        "# Print the number of unique countries\n",
        "print(f\"The number of unique countries in the dataset is: {unique_countries}\")\n"
      ]
    },
    {
      "cell_type": "markdown",
      "metadata": {
        "id": "xAqSMShESIWZ"
      },
      "source": [
        "## Authors\n"
      ]
    },
    {
      "cell_type": "markdown",
      "metadata": {
        "id": "IsMA9g3GSIWa"
      },
      "source": [
        "Ramesh Sannareddy\n"
      ]
    },
    {
      "cell_type": "markdown",
      "metadata": {
        "id": "DVVxH69VSIWa"
      },
      "source": [
        "### Other Contributors\n"
      ]
    },
    {
      "cell_type": "markdown",
      "metadata": {
        "id": "4pS-B1_4SIWa"
      },
      "source": [
        "Rav Ahuja\n"
      ]
    },
    {
      "cell_type": "markdown",
      "metadata": {
        "id": "AZL3p7IYSIWa"
      },
      "source": [
        "## Change Log\n"
      ]
    },
    {
      "cell_type": "markdown",
      "metadata": {
        "id": "MLNtFhKASIWb"
      },
      "source": [
        "| Date (YYYY-MM-DD) | Version | Changed By        | Change Description                 |\n",
        "| ----------------- | ------- | ----------------- | ---------------------------------- |\n",
        "| 2020-10-17        | 0.1     | Ramesh Sannareddy | Created initial version of the lab |\n"
      ]
    },
    {
      "cell_type": "markdown",
      "metadata": {
        "id": "BE94f7rCSIWb"
      },
      "source": [
        " Copyright © 2020 IBM Corporation. This notebook and its source code are released under the terms of the [MIT License](https://cognitiveclass.ai/mit-license?utm_medium=Exinfluencer&utm_source=Exinfluencer&utm_content=000026UJ&utm_term=10006555&utm_id=NA-SkillsNetwork-Channel-SkillsNetworkCoursesIBMDA0321ENSkillsNetwork928-2022-01-01&cm_mmc=Email_Newsletter-_-Developer_Ed%2BTech-_-WW_WW-_-SkillsNetwork-Courses-IBM-DA0321EN-SkillsNetwork-21426264&cm_mmca1=000026UJ&cm_mmca2=10006555&cm_mmca3=M12345678&cvosrc=email.Newsletter.M12345678&cvo_campaign=000026UJ).\n"
      ]
    }
  ],
  "metadata": {
    "kernelspec": {
      "display_name": "Python",
      "language": "python",
      "name": "conda-env-python-py"
    },
    "language_info": {
      "name": ""
    },
    "colab": {
      "provenance": []
    }
  },
  "nbformat": 4,
  "nbformat_minor": 0
}