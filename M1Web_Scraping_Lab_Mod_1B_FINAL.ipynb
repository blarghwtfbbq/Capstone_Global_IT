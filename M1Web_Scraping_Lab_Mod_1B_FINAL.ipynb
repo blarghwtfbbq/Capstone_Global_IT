{
  "cells": [
    {
      "cell_type": "markdown",
      "metadata": {
        "id": "H2A2frgaNwAf"
      },
      "source": [
        "<p style=\"text-align:center\">\n",
        "    <a href=\"https://skills.network/?utm_medium=Exinfluencer&utm_source=Exinfluencer&utm_content=000026UJ&utm_term=10006555&utm_id=NA-SkillsNetwork-Channel-SkillsNetworkCoursesIBMDA0321ENSkillsNetwork928-2022-01-01\" target=\"_blank\">\n",
        "    <img src=\"https://cf-courses-data.s3.us.cloud-object-storage.appdomain.cloud/assets/logos/SN_web_lightmode.png\" width=\"200\" alt=\"Skills Network Logo\"  />\n",
        "    </a>\n",
        "</p>\n"
      ]
    },
    {
      "cell_type": "markdown",
      "metadata": {
        "id": "BJKG_2t2NwAh"
      },
      "source": [
        "# **Hands-on Lab : Web Scraping**\n"
      ]
    },
    {
      "cell_type": "markdown",
      "metadata": {
        "id": "JOANxRk8NwAi"
      },
      "source": [
        "Estimated time needed: **30 to 45** minutes\n"
      ]
    },
    {
      "cell_type": "markdown",
      "metadata": {
        "id": "9YBfX9zlNwAj"
      },
      "source": [
        "## Objectives\n"
      ]
    },
    {
      "cell_type": "markdown",
      "metadata": {
        "id": "EPp86D9GNwAj"
      },
      "source": [
        "In this lab you will perform the following:\n"
      ]
    },
    {
      "cell_type": "markdown",
      "metadata": {
        "id": "w61h66NANwAk"
      },
      "source": [
        "* Extract information from a given web site\n",
        "* Write the scraped data into a csv file.\n"
      ]
    },
    {
      "cell_type": "markdown",
      "metadata": {
        "id": "BIXmD4u8NwAk"
      },
      "source": [
        "## Extract information from the given web site\n",
        "You will extract the data from the below web site: <br>\n"
      ]
    },
    {
      "cell_type": "code",
      "execution_count": null,
      "metadata": {
        "id": "S6Qq_nxDNwAl"
      },
      "outputs": [],
      "source": [
        "#this url contains the data you need to scrape\n",
        "url = \"https://cf-courses-data.s3.us.cloud-object-storage.appdomain.cloud/IBM-DA0321EN-SkillsNetwork/labs/datasets/Programming_Languages.html\""
      ]
    },
    {
      "cell_type": "markdown",
      "metadata": {
        "id": "8H-OirwLNwAn"
      },
      "source": [
        "The data you need to scrape is the **name of the programming language** and **average annual salary**.<br> It is a good idea to open the url in your web broswer and study the contents of the web page before you start to scrape.\n"
      ]
    },
    {
      "cell_type": "markdown",
      "metadata": {
        "id": "6FnSfyxmNwAn"
      },
      "source": [
        "Import the required libraries\n"
      ]
    },
    {
      "cell_type": "code",
      "execution_count": null,
      "metadata": {
        "id": "VGE0X3JtNwAo"
      },
      "outputs": [],
      "source": [
        "# Your code here\n",
        "\n",
        "import requests\n",
        "from bs4 import BeautifulSoup\n",
        "import pandas as pd\n"
      ]
    },
    {
      "cell_type": "markdown",
      "metadata": {
        "id": "WW2bd1QWNwAo"
      },
      "source": [
        "Download the webpage at the url\n"
      ]
    },
    {
      "cell_type": "code",
      "execution_count": null,
      "metadata": {
        "colab": {
          "base_uri": "https://localhost:8080/"
        },
        "id": "qbV8JjEbNwAo",
        "outputId": "594ff3bb-79a8-4b24-8113-e945a6d34e3d"
      },
      "outputs": [
        {
          "output_type": "stream",
          "name": "stdout",
          "text": [
            "Webpage downloaded successfully.\n",
            "<!DOCTYPE html>\n",
            "<html lang=\"en\">\n",
            " <head>\n",
            "  <title>\n",
            "   Salary survey results of programming languages\n",
            "  </title>\n",
            "  <style>\n",
            "   table, th, td {\n",
            "  border: 1px solid black;\n",
            "}\n",
            "  </style>\n",
            " </head>\n",
            " <body>\n",
            "  <hr/>\n",
            "  <h2>\n",
            "   Popular Programming Languages\n",
            "  </h2>\n",
            "  <hr/>\n",
            "  <p>\n",
            "   Finding out which is the best language is a tough task. A programming language is created to solve a specific problem. A language which is good for task A may not be able to properly handle task B. Comparing programming language \n"
          ]
        }
      ],
      "source": [
        "#your code goes here\n",
        "\n",
        "# URL of the webpage to scrape\n",
        "url = \"https://cf-courses-data.s3.us.cloud-object-storage.appdomain.cloud/IBM-DA0321EN-SkillsNetwork/labs/datasets/Programming_Languages.html\"\n",
        "\n",
        "# Send a GET request to the URL\n",
        "response = requests.get(url)\n",
        "\n",
        "# Check if the request was successful\n",
        "if response.status_code == 200:\n",
        "    print(\"Webpage downloaded successfully.\")\n",
        "else:\n",
        "    print(f\"Failed to download webpage. Status code: {response.status_code}\")\n",
        "\n",
        "# Parse the HTML content\n",
        "soup = BeautifulSoup(response.content, 'html.parser')\n",
        "\n",
        "# Print out a snippet of the parsed HTML to verify\n",
        "print(soup.prettify()[:500])  # Print the first 500 characters of the parsed HTML\n"
      ]
    },
    {
      "cell_type": "markdown",
      "metadata": {
        "id": "DCaADKqONwAp"
      },
      "source": [
        "Create a soup object\n"
      ]
    },
    {
      "cell_type": "code",
      "execution_count": null,
      "metadata": {
        "colab": {
          "base_uri": "https://localhost:8080/"
        },
        "id": "VJtiaIX4NwAp",
        "outputId": "da0b7831-bd9c-4560-96f3-8ed932294665"
      },
      "outputs": [
        {
          "output_type": "stream",
          "name": "stdout",
          "text": [
            "Webpage downloaded successfully.\n",
            "<!DOCTYPE html>\n",
            "<html lang=\"en\">\n",
            " <head>\n",
            "  <title>\n",
            "   Salary survey results of programming languages\n",
            "  </title>\n",
            "  <style>\n",
            "   table, th, td {\n",
            "  border: 1px solid black;\n",
            "}\n",
            "  </style>\n",
            " </head>\n",
            " <body>\n",
            "  <hr/>\n",
            "  <h2>\n",
            "   Popular Programming Languages\n",
            "  </h2>\n",
            "  <hr/>\n",
            "  <p>\n",
            "   Finding out which is the best language is a tough task. A programming language is created to solve a specific problem. A language which is good for task A may not be able to properly handle task B. Comparing programming language \n"
          ]
        }
      ],
      "source": [
        "#your code goes here\n",
        "\n",
        "import requests\n",
        "from bs4 import BeautifulSoup\n",
        "\n",
        "# URL of the webpage to scrape\n",
        "url = \"https://cf-courses-data.s3.us.cloud-object-storage.appdomain.cloud/IBM-DA0321EN-SkillsNetwork/labs/datasets/Programming_Languages.html\"\n",
        "\n",
        "# Send a GET request to the URL\n",
        "response = requests.get(url)\n",
        "\n",
        "# Check if the request was successful\n",
        "if response.status_code == 200:\n",
        "    print(\"Webpage downloaded successfully.\")\n",
        "else:\n",
        "    print(f\"Failed to download webpage. Status code: {response.status_code}\")\n",
        "\n",
        "# Parse the HTML content using BeautifulSoup\n",
        "soup = BeautifulSoup(response.content, 'html.parser')\n",
        "\n",
        "# Print out a snippet of the parsed HTML to verify\n",
        "print(soup.prettify()[:500])  # Print the first 500 characters of the parsed HTML\n"
      ]
    },
    {
      "cell_type": "markdown",
      "metadata": {
        "id": "b0YbdPnlNwAp"
      },
      "source": [
        "Scrape the `Language name` and `annual average salary`.\n"
      ]
    },
    {
      "cell_type": "code",
      "execution_count": null,
      "metadata": {
        "colab": {
          "base_uri": "https://localhost:8080/"
        },
        "id": "Ay_s33nxNwAp",
        "outputId": "3a105738-92ee-4214-dd4c-2fea1561168d"
      },
      "outputs": [
        {
          "output_type": "stream",
          "name": "stdout",
          "text": [
            "Webpage downloaded successfully.\n",
            "  Programming Language Average Annual Salary\n",
            "0               Python              $114,383\n",
            "1                 Java              $101,013\n",
            "2                    R               $92,037\n",
            "3           Javascript              $110,981\n",
            "4                Swift              $130,801\n",
            "5                  C++              $113,865\n",
            "6                   C#               $88,726\n",
            "7                  PHP               $84,727\n",
            "8                  SQL               $84,793\n",
            "9                   Go               $94,082\n"
          ]
        }
      ],
      "source": [
        "#your code goes here\n",
        "\n",
        "import requests\n",
        "from bs4 import BeautifulSoup\n",
        "import pandas as pd\n",
        "\n",
        "# URL of the webpage to scrape\n",
        "url = \"https://cf-courses-data.s3.us.cloud-object-storage.appdomain.cloud/IBM-DA0321EN-SkillsNetwork/labs/datasets/Programming_Languages.html\"\n",
        "\n",
        "# Send a GET request to the URL\n",
        "response = requests.get(url)\n",
        "\n",
        "# Check if the request was successful\n",
        "if response.status_code == 200:\n",
        "    print(\"Webpage downloaded successfully.\")\n",
        "else:\n",
        "    print(f\"Failed to download webpage. Status code: {response.status_code}\")\n",
        "\n",
        "# Parse the HTML content using BeautifulSoup\n",
        "soup = BeautifulSoup(response.content, 'html.parser')\n",
        "\n",
        "# Find the table in the webpage\n",
        "table = soup.find('table')\n",
        "\n",
        "# Extract table rows\n",
        "rows = table.find_all('tr')\n",
        "\n",
        "# Initialize lists to store the data\n",
        "languages = []\n",
        "salaries = []\n",
        "\n",
        "# Loop through the rows and extract data\n",
        "for row in rows[1:]:  # Skip the header row\n",
        "    cols = row.find_all('td')\n",
        "    languages.append(cols[1].text.strip())  # Language is in the second column\n",
        "    salaries.append(cols[3].text.strip())   # Salary is in the fourth column\n",
        "\n",
        "# Create DataFrame\n",
        "df = pd.DataFrame({\n",
        "    'Programming Language': languages,\n",
        "    'Average Annual Salary': salaries\n",
        "})\n",
        "\n",
        "# Display the DataFrame\n",
        "print(df)\n",
        "\n",
        "# Save DataFrame to Excel\n",
        "df.to_excel('programming_languages_salaries.xlsx', index=False)\n"
      ]
    },
    {
      "cell_type": "markdown",
      "metadata": {
        "id": "Kc0I611gNwAp"
      },
      "source": [
        "Save the scrapped data into a file named *popular-languages.csv*\n"
      ]
    },
    {
      "cell_type": "code",
      "execution_count": null,
      "metadata": {
        "colab": {
          "base_uri": "https://localhost:8080/"
        },
        "id": "xPz8AcZ_NwAq",
        "outputId": "fc7a61db-95f9-49a1-8512-61291d85a935"
      },
      "outputs": [
        {
          "output_type": "stream",
          "name": "stdout",
          "text": [
            "Webpage downloaded successfully.\n",
            "  Programming Language Average Annual Salary\n",
            "0               Python              $114,383\n",
            "1                 Java              $101,013\n",
            "2                    R               $92,037\n",
            "3           Javascript              $110,981\n",
            "4                Swift              $130,801\n",
            "5                  C++              $113,865\n",
            "6                   C#               $88,726\n",
            "7                  PHP               $84,727\n",
            "8                  SQL               $84,793\n",
            "9                   Go               $94,082\n"
          ]
        }
      ],
      "source": [
        "# your code goes here\n",
        "\n",
        "import requests\n",
        "from bs4 import BeautifulSoup\n",
        "import pandas as pd\n",
        "\n",
        "# URL of the webpage to scrape\n",
        "url = \"https://cf-courses-data.s3.us.cloud-object-storage.appdomain.cloud/IBM-DA0321EN-SkillsNetwork/labs/datasets/Programming_Languages.html\"\n",
        "\n",
        "# Send a GET request to the URL\n",
        "response = requests.get(url)\n",
        "\n",
        "# Check if the request was successful\n",
        "if response.status_code == 200:\n",
        "    print(\"Webpage downloaded successfully.\")\n",
        "else:\n",
        "    print(f\"Failed to download webpage. Status code: {response.status_code}\")\n",
        "\n",
        "# Parse the HTML content using BeautifulSoup\n",
        "soup = BeautifulSoup(response.content, 'html.parser')\n",
        "\n",
        "# Find the table in the webpage\n",
        "table = soup.find('table')\n",
        "\n",
        "# Extract table rows\n",
        "rows = table.find_all('tr')\n",
        "\n",
        "# Initialize lists to store the data\n",
        "languages = []\n",
        "salaries = []\n",
        "\n",
        "# Loop through the rows and extract data\n",
        "for row in rows[1:]:  # Skip the header row\n",
        "    cols = row.find_all('td')\n",
        "    languages.append(cols[1].text.strip())  # Language is in the second column\n",
        "    salaries.append(cols[3].text.strip())   # Salary is in the fourth column\n",
        "\n",
        "# Create DataFrame\n",
        "df = pd.DataFrame({\n",
        "    'Programming Language': languages,\n",
        "    'Average Annual Salary': salaries\n",
        "})\n",
        "\n",
        "# Display the DataFrame\n",
        "print(df)\n",
        "\n",
        "# Save DataFrame to CSV\n",
        "df.to_csv('popular-languages.csv', index=False)\n"
      ]
    },
    {
      "cell_type": "code",
      "source": [
        "# bar graph of salary by technology\n",
        "\n",
        "import requests\n",
        "from bs4 import BeautifulSoup\n",
        "import pandas as pd\n",
        "import matplotlib.pyplot as plt\n",
        "\n",
        "# URL of the webpage to scrape\n",
        "url = \"https://cf-courses-data.s3.us.cloud-object-storage.appdomain.cloud/IBM-DA0321EN-SkillsNetwork/labs/datasets/Programming_Languages.html\"\n",
        "\n",
        "# Send a GET request to the URL\n",
        "response = requests.get(url)\n",
        "\n",
        "# Check if the request was successful\n",
        "if response.status_code == 200:\n",
        "    print(\"Webpage downloaded successfully.\")\n",
        "else:\n",
        "    print(f\"Failed to download webpage. Status code: {response.status_code}\")\n",
        "\n",
        "# Parse the HTML content using BeautifulSoup\n",
        "soup = BeautifulSoup(response.content, 'html.parser')\n",
        "\n",
        "# Find the table in the webpage\n",
        "table = soup.find('table')\n",
        "\n",
        "# Extract table rows\n",
        "rows = table.find_all('tr')\n",
        "\n",
        "# Initialize lists to store the data\n",
        "languages = []\n",
        "salaries = []\n",
        "\n",
        "# Loop through the rows and extract data\n",
        "for row in rows[1:]:  # Skip the header row\n",
        "    cols = row.find_all('td')\n",
        "    languages.append(cols[1].text.strip())  # Language is in the second column\n",
        "    salaries.append(cols[3].text.strip())   # Salary is in the fourth column\n",
        "\n",
        "# Create DataFrame\n",
        "df = pd.DataFrame({\n",
        "    'Programming Language': languages,\n",
        "    'Average Annual Salary': salaries\n",
        "})\n",
        "\n",
        "# Convert 'Average Annual Salary' to numeric, remove $ and commas\n",
        "df['Average Annual Salary'] = df['Average Annual Salary'].replace('[\\$,]', '', regex=True).astype(float)\n",
        "\n",
        "# Rank DataFrame from high to low by salary\n",
        "df = df.sort_values(by='Average Annual Salary', ascending=False)\n",
        "\n",
        "# Generate bar chart\n",
        "plt.figure(figsize=(10, 6))\n",
        "plt.bar(df['Programming Language'], df['Average Annual Salary'], color='skyblue')\n",
        "plt.xlabel('Programming Language')\n",
        "plt.ylabel('Average Annual Salary ($)')\n",
        "plt.title('Average Annual Salary by Programming Language')\n",
        "plt.xticks(rotation=45)\n",
        "plt.tight_layout()\n",
        "plt.savefig('average_salary_by_language.png')\n",
        "plt.show()\n",
        "\n",
        "# Save DataFrame to CSV\n",
        "df.to_csv('popular-languages.csv', index=False)\n",
        "\n",
        "# Print DataFrame\n",
        "print(\"Average Annual Salary by Programming Language (ranked high to low):\")\n",
        "print(df)\n"
      ],
      "metadata": {
        "colab": {
          "base_uri": "https://localhost:8080/",
          "height": 832
        },
        "id": "ns5QW532QykD",
        "outputId": "8e079e03-a9fb-4877-e735-bc5da62fa447"
      },
      "execution_count": null,
      "outputs": [
        {
          "output_type": "stream",
          "name": "stdout",
          "text": [
            "Webpage downloaded successfully.\n"
          ]
        },
        {
          "output_type": "display_data",
          "data": {
            "text/plain": [
              "<Figure size 1000x600 with 1 Axes>"
            ],
            "image/png": "[encoded data removed]"
          },
          "metadata": {}
        },
        {
          "output_type": "stream",
          "name": "stdout",
          "text": [
            "Average Annual Salary by Programming Language (ranked high to low):\n",
            "  Programming Language  Average Annual Salary\n",
            "4                Swift               130801.0\n",
            "0               Python               114383.0\n",
            "5                  C++               113865.0\n",
            "3           Javascript               110981.0\n",
            "1                 Java               101013.0\n",
            "9                   Go                94082.0\n",
            "2                    R                92037.0\n",
            "6                   C#                88726.0\n",
            "8                  SQL                84793.0\n",
            "7                  PHP                84727.0\n"
          ]
        }
      ]
    },
    {
      "cell_type": "markdown",
      "metadata": {
        "id": "TqUA9s9zNwAq"
      },
      "source": [
        "## Authors\n"
      ]
    },
    {
      "cell_type": "markdown",
      "metadata": {
        "id": "ReHdGmcmNwAq"
      },
      "source": [
        "Ramesh Sannareddy\n"
      ]
    },
    {
      "cell_type": "markdown",
      "metadata": {
        "id": "xzAQpqnRNwAq"
      },
      "source": [
        "### Other Contributors\n"
      ]
    },
    {
      "cell_type": "markdown",
      "metadata": {
        "id": "1Z0FiytiNwAs"
      },
      "source": [
        "Rav Ahuja\n"
      ]
    },
    {
      "cell_type": "markdown",
      "metadata": {
        "id": "tctNI7wjNwAs"
      },
      "source": [
        "## Change Log\n"
      ]
    },
    {
      "cell_type": "markdown",
      "metadata": {
        "id": "ydKrjh3VNwAs"
      },
      "source": [
        "|  Date (YYYY-MM-DD) |  Version | Changed By  |  Change Description |\n",
        "|---|---|---|---|\n",
        "| 2020-10-17  | 0.1  | Ramesh Sannareddy  |  Created initial version of the lab |\n"
      ]
    },
    {
      "cell_type": "markdown",
      "metadata": {
        "id": "IJdW9zv6NwAt"
      },
      "source": [
        " Copyright &copy; 2020 IBM Corporation. This notebook and its source code are released under the terms of the [MIT License](https://cognitiveclass.ai/mit-license/?utm_medium=Exinfluencer&utm_source=Exinfluencer&utm_content=000026UJ&utm_term=10006555&utm_id=NA-SkillsNetwork-Channel-SkillsNetworkCoursesIBMDA0321ENSkillsNetwork928-2022-01-01).\n"
      ]
    }
  ],
  "metadata": {
    "kernelspec": {
      "display_name": "Python",
      "language": "python",
      "name": "conda-env-python-py"
    },
    "language_info": {
      "name": ""
    },
    "colab": {
      "provenance": []
    }
  },
  "nbformat": 4,
  "nbformat_minor": 0
}