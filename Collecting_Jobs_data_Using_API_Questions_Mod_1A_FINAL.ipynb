{
  "cells": [
    {
      "cell_type": "markdown",
      "metadata": {
        "id": "7Ud_UsjCnkJ-"
      },
      "source": [
        "<p style=\"text-align:center\">\n",
        "    <a href=\"https://skills.network/?utm_medium=Exinfluencer&utm_source=Exinfluencer&utm_content=000026UJ&utm_term=10006555&utm_id=NA-SkillsNetwork-Channel-SkillsNetworkCoursesIBMDA0321ENSkillsNetwork928-2022-01-01\" target=\"_blank\">\n",
        "    <img src=\"https://cf-courses-data.s3.us.cloud-object-storage.appdomain.cloud/assets/logos/SN_web_lightmode.png\" width=\"200\" alt=\"Skills Network Logo\"  />\n",
        "    </a>\n",
        "</p>\n"
      ]
    },
    {
      "cell_type": "markdown",
      "metadata": {
        "id": "FAQAboFDnkKA"
      },
      "source": [
        "# **Collecting Job Data Using APIs**\n"
      ]
    },
    {
      "cell_type": "markdown",
      "metadata": {
        "id": "y9p9T6BEnkKB"
      },
      "source": [
        "Estimated time needed: **45 to 60** minutes\n"
      ]
    },
    {
      "cell_type": "markdown",
      "metadata": {
        "id": "Zl2wmLmfnkKB"
      },
      "source": [
        "## Objectives\n"
      ]
    },
    {
      "cell_type": "markdown",
      "metadata": {
        "id": "J01QpihKnkKB"
      },
      "source": [
        "After completing this lab, you will be able to:\n"
      ]
    },
    {
      "cell_type": "markdown",
      "metadata": {
        "id": "t8G0qnGcnkKC"
      },
      "source": [
        "*   Collect job data from Jobs API\n",
        "*   Store the collected data into an excel spreadsheet.\n"
      ]
    },
    {
      "cell_type": "markdown",
      "metadata": {
        "id": "dT31zWXRnkKC"
      },
      "source": [
        "><strong>Note: Before starting with the assignment make sure to read all the instructions and then move ahead with the coding part.</strong>\n"
      ]
    },
    {
      "cell_type": "markdown",
      "metadata": {
        "id": "NutQiQG2nkKC"
      },
      "source": [
        "#### Instructions\n"
      ]
    },
    {
      "cell_type": "markdown",
      "metadata": {
        "id": "x4tY-qzinkKC"
      },
      "source": [
        "To run the actual lab, firstly you need to click on the [Jobs_API](https://cf-courses-data.s3.us.cloud-object-storage.appdomain.cloud/IBM-DA0321EN-SkillsNetwork/labs/module%201/Accessing%20Data%20Using%20APIs/Jobs_API.ipynb) notebook link. The file contains flask code which is required to run the Jobs API data.\n",
        "\n",
        "Now, to run the code in the file that opens up follow the below steps.\n",
        "\n",
        "Step1: Download the file.\n",
        "\n",
        "Step2: Upload it on the IBM Watson studio. (If IBM Watson Cloud service does not work in your system, follow the alternate Step 2 below)\n",
        "\n",
        "Step2(alternate): Upload it in your SN labs environment using the upload button which is highlighted in red in the image below:\n",
        "Remember to upload this Jobs_API file in the same folder as your current .ipynb file\n",
        "\n",
        "<img src=\"https://cf-courses-data.s3.us.cloud-object-storage.appdomain.cloud/IBM-DA0321EN-SkillsNetwork/labs/module%201/Accessing%20Data%20Using%20APIs/Upload.PNG\">\n",
        "\n",
        "Step3:  Run all the cells of the Jobs_API file. (Even if you receive an asterik sign after running the last cell, the code works fine.)\n",
        "\n",
        "If you want to learn more about flask, which is optional, you can click on this link [here](https://cf-courses-data.s3.us.cloud-object-storage.appdomain.cloud/IBM-DA0321EN-SkillsNetwork/labs/module%201/Accessing%20Data%20Using%20APIs/FLASK_API.md.html).\n",
        "\n",
        "Once you run the flask code, you can start with your assignment.\n"
      ]
    },
    {
      "cell_type": "markdown",
      "metadata": {
        "id": "BbwuCwAtnkKD"
      },
      "source": [
        "## Dataset Used in this Assignment\n",
        "\n",
        "The dataset used in this lab comes from the following source: https://www.kaggle.com/promptcloud/jobs-on-naukricom under the under a **Public Domain license**.\n",
        "\n",
        "> Note: We are using a modified subset of that dataset for the lab, so to follow the lab instructions successfully please use the dataset provided with the lab, rather than the dataset from the original source.\n",
        "\n",
        "The original dataset is a csv. We have converted the csv to json as per the requirement of the lab.\n"
      ]
    },
    {
      "cell_type": "markdown",
      "metadata": {
        "id": "tZYY-P3-nkKD"
      },
      "source": [
        "## Warm-Up Exercise\n"
      ]
    },
    {
      "cell_type": "markdown",
      "metadata": {
        "id": "McWWnfzankKD"
      },
      "source": [
        "Before you attempt the actual lab, here is a fully solved warmup exercise that will help you to learn how to access an API.\n"
      ]
    },
    {
      "cell_type": "markdown",
      "metadata": {
        "id": "d790lv0RnkKD"
      },
      "source": [
        "Using an API, let us find out who currently are on the International Space Station (ISS).<br> The API at [http://api.open-notify.org/astros.json](http://api.open-notify.org/astros.json?utm_medium=Exinfluencer&utm_source=Exinfluencer&utm_content=000026UJ&utm_term=10006555&utm_id=NA-SkillsNetwork-Channel-SkillsNetworkCoursesIBMDA0321ENSkillsNetwork21426264-2021-01-01&cm_mmc=Email_Newsletter-_-Developer_Ed%2BTech-_-WW_WW-_-SkillsNetwork-Courses-IBM-DA0321EN-SkillsNetwork-21426264&cm_mmca1=000026UJ&cm_mmca2=10006555&cm_mmca3=M12345678&cvosrc=email.Newsletter.M12345678&cvo_campaign=000026UJ) gives us the information of astronauts currently on ISS in json format.<br>\n",
        "You can read more about this API at [http://open-notify.org/Open-Notify-API/People-In-Space/](http://open-notify.org/Open-Notify-API/People-In-Space?utm_medium=Exinfluencer&utm_source=Exinfluencer&utm_content=000026UJ&utm_term=10006555&utm_id=NA-SkillsNetwork-Channel-SkillsNetworkCoursesIBMDA0321ENSkillsNetwork21426264-2021-01-01&cm_mmc=Email_Newsletter-_-Developer_Ed%2BTech-_-WW_WW-_-SkillsNetwork-Courses-IBM-DA0321EN-SkillsNetwork-21426264&cm_mmca1=000026UJ&cm_mmca2=10006555&cm_mmca3=M12345678&cvosrc=email.Newsletter.M12345678&cvo_campaign=000026UJ)\n"
      ]
    },
    {
      "cell_type": "code",
      "execution_count": 59,
      "metadata": {
        "id": "9JeEEeslnkKE"
      },
      "outputs": [],
      "source": [
        "import requests # you need this module to make an API call\n",
        "import pandas as pd"
      ]
    },
    {
      "cell_type": "code",
      "execution_count": 60,
      "metadata": {
        "id": "zZc05h2XnkKE"
      },
      "outputs": [],
      "source": [
        "api_url = \"http://api.open-notify.org/astros.json\" # this url gives use the astronaut data"
      ]
    },
    {
      "cell_type": "code",
      "execution_count": 61,
      "metadata": {
        "id": "0_yLyBfunkKF"
      },
      "outputs": [],
      "source": [
        "response = requests.get(api_url) # Call the API using the get method and store the\n",
        "                                # output of the API call in a variable called response."
      ]
    },
    {
      "cell_type": "code",
      "execution_count": 62,
      "metadata": {
        "id": "GVe714MBnkKF"
      },
      "outputs": [],
      "source": [
        "if response.ok:             # if all is well() no errors, no network timeouts)\n",
        "    data = response.json()  # store the result in json format in a variable called data\n",
        "                            # the variable data is of type dictionary."
      ]
    },
    {
      "cell_type": "code",
      "execution_count": null,
      "metadata": {
        "id": "vkKviidBnkKF"
      },
      "outputs": [],
      "source": []
    },
    {
      "cell_type": "code",
      "execution_count": 63,
      "metadata": {
        "colab": {
          "base_uri": "https://localhost:8080/"
        },
        "id": "IvZTcXqrnkKF",
        "outputId": "bfb5c750-25e0-4230-de9c-f6c191f31bd6"
      },
      "outputs": [
        {
          "output_type": "stream",
          "name": "stdout",
          "text": [
            "{'people': [{'craft': 'ISS', 'name': 'Oleg Kononenko'}, {'craft': 'ISS', 'name': 'Nikolai Chub'}, {'craft': 'ISS', 'name': 'Tracy Caldwell Dyson'}, {'craft': 'ISS', 'name': 'Matthew Dominick'}, {'craft': 'ISS', 'name': 'Michael Barratt'}, {'craft': 'ISS', 'name': 'Jeanette Epps'}, {'craft': 'ISS', 'name': 'Alexander Grebenkin'}, {'craft': 'ISS', 'name': 'Butch Wilmore'}, {'craft': 'ISS', 'name': 'Sunita Williams'}, {'craft': 'Tiangong', 'name': 'Li Guangsu'}, {'craft': 'Tiangong', 'name': 'Li Cong'}, {'craft': 'Tiangong', 'name': 'Ye Guangfu'}], 'number': 12, 'message': 'success'}\n"
          ]
        }
      ],
      "source": [
        "print(data)   # print the data just to check the output or for debugging"
      ]
    },
    {
      "cell_type": "markdown",
      "metadata": {
        "id": "FGxhzji7nkKF"
      },
      "source": [
        "Print the number of astronauts currently on ISS.\n"
      ]
    },
    {
      "cell_type": "code",
      "execution_count": 65,
      "metadata": {
        "colab": {
          "base_uri": "https://localhost:8080/"
        },
        "id": "l7bB6aJ0nkKF",
        "outputId": "e97d61aa-7146-442a-e718-7bcf624b9d52"
      },
      "outputs": [
        {
          "output_type": "stream",
          "name": "stdout",
          "text": [
            "12\n"
          ]
        }
      ],
      "source": [
        "print(data.get('number'))"
      ]
    },
    {
      "cell_type": "markdown",
      "metadata": {
        "id": "sMQOsEN-nkKG"
      },
      "source": [
        "Print the names of the astronauts currently on ISS.\n"
      ]
    },
    {
      "cell_type": "code",
      "execution_count": 66,
      "metadata": {
        "colab": {
          "base_uri": "https://localhost:8080/"
        },
        "id": "sPTEzR_onkKG",
        "outputId": "bd862d4e-dd4e-4c2b-ae41-57c782e897ec"
      },
      "outputs": [
        {
          "output_type": "stream",
          "name": "stdout",
          "text": [
            "There are 12 astronauts on ISS\n",
            "And their names are :\n",
            "Oleg Kononenko\n",
            "Nikolai Chub\n",
            "Tracy Caldwell Dyson\n",
            "Matthew Dominick\n",
            "Michael Barratt\n",
            "Jeanette Epps\n",
            "Alexander Grebenkin\n",
            "Butch Wilmore\n",
            "Sunita Williams\n",
            "Li Guangsu\n",
            "Li Cong\n",
            "Ye Guangfu\n"
          ]
        }
      ],
      "source": [
        "astronauts = data.get('people')\n",
        "print(\"There are {} astronauts on ISS\".format(len(astronauts)))\n",
        "print(\"And their names are :\")\n",
        "for astronaut in astronauts:\n",
        "    print(astronaut.get('name'))"
      ]
    },
    {
      "cell_type": "markdown",
      "metadata": {
        "id": "I4QHt2SinkKH"
      },
      "source": [
        "Hope the warmup was helpful. Good luck with your next lab!\n"
      ]
    },
    {
      "cell_type": "markdown",
      "metadata": {
        "id": "z237l7k7nkKH"
      },
      "source": [
        "## Lab: Collect Jobs Data using Jobs API\n"
      ]
    },
    {
      "cell_type": "markdown",
      "metadata": {
        "id": "TiBMp-tpnkKH"
      },
      "source": [
        "### Objective: Determine the number of jobs currently open for various technologies  and for various locations\n"
      ]
    },
    {
      "cell_type": "markdown",
      "metadata": {
        "id": "4L4-hlhSnkKH"
      },
      "source": [
        "Collect the number of job postings for the following locations using the API:\n",
        "\n",
        "* Los Angeles\n",
        "* New York\n",
        "* San Francisco\n",
        "* Washington DC\n",
        "* Seattle\n",
        "* Austin\n",
        "* Detroit\n"
      ]
    },
    {
      "cell_type": "code",
      "execution_count": 67,
      "metadata": {
        "id": "sTuebNcInkKH"
      },
      "outputs": [],
      "source": [
        "#Import required libraries\n",
        "import pandas as pd\n",
        "import json"
      ]
    },
    {
      "cell_type": "markdown",
      "metadata": {
        "id": "w_J4Q8zrnkKI"
      },
      "source": [
        "#### Write a function to get the number of jobs for the Python technology.<br>\n",
        "> Note: While using the lab you need to pass the **payload** information for the **params** attribute in the form of **key** **value** pairs.\n",
        "  Refer the ungraded **rest api lab** in the course **Python for Data Science, AI & Development**  <a href=\"https://www.coursera.org/learn/python-for-applied-data-science-ai/ungradedLti/P6sW8/hands-on-lab-access-rest-apis-request-http?utm_medium=Exinfluencer&utm_source=Exinfluencer&utm_content=000026UJ&utm_term=10006555&utm_id=NA-SkillsNetwork-Channel-SkillsNetworkCoursesIBMDA0321ENSkillsNetwork928-2022-01-01\">link</a>\n",
        "  \n",
        " ##### The keys in the json are\n",
        " * Job Title\n",
        "\n",
        " * Job Experience Required\n",
        "\n",
        " * Key Skills\n",
        "\n",
        " * Role Category\n",
        "\n",
        " * Location\n",
        "\n",
        " * Functional Area\n",
        "\n",
        " * Industry\n",
        "\n",
        " * Role\n",
        "\n",
        "You can also view  the json file contents  from the following <a href = \"https://cf-courses-data.s3.us.cloud-object-storage.appdomain.cloud/IBM-DA0321EN-SkillsNetwork/labs/module%201/Accessing%20Data%20Using%20APIs/jobs.json\">json</a> URL.\n"
      ]
    },
    {
      "cell_type": "code",
      "execution_count": null,
      "metadata": {
        "id": "cNP3CcOFnkKI"
      },
      "outputs": [],
      "source": [
        "api_url=\"http://127.0.0.1:5000/data\"\n",
        "def get_number_of_jobs_T(technology):\n",
        "\n",
        "    #your code goes here\n",
        "    return technology,number_of_jobs"
      ]
    },
    {
      "cell_type": "code",
      "source": [
        "import json\n",
        "import pandas as pd\n",
        "\n",
        "def get_number_of_jobs_L(location, file_path):\n",
        "    \"\"\"\n",
        "    Get the number of jobs for a specific location from a local JSON file.\n",
        "\n",
        "    :param location: The location to search for in job listings\n",
        "    :param file_path: The path to the local JSON file\n",
        "    :return: A tuple containing the location and the number of job listings\n",
        "    \"\"\"\n",
        "    try:\n",
        "        # Read the JSON file\n",
        "        with open(file_path, 'r') as file:\n",
        "            jobs_data = json.load(file)\n",
        "\n",
        "        # Filter jobs that match the specified location\n",
        "        jobs_for_location = [job for job in jobs_data if location in job.get('Location', '')]\n",
        "\n",
        "        # Calculate the number of jobs\n",
        "        number_of_jobs = len(jobs_for_location)\n",
        "\n",
        "        return location, number_of_jobs\n",
        "\n",
        "    except Exception as e:\n",
        "        print(f\"An error occurred: {e}\")\n",
        "        return location, 0\n",
        "\n",
        "# Define the file path to the local JSON file\n",
        "file_path = '/content/jobs.json'\n",
        "\n",
        "# List of locations\n",
        "locations = [\"Los Angeles\", \"New York\", \"San Francisco\", \"Washington DC\", \"Seattle\", \"Austin\", \"Detroit\"]\n",
        "\n",
        "# Collect job postings data\n",
        "results = [get_number_of_jobs_L(location, file_path) for location in locations]\n",
        "\n",
        "# Create DataFrame\n",
        "df = pd.DataFrame(results, columns=['Location', 'Number of Jobs'])\n",
        "\n",
        "# Write to Excel\n",
        "df.to_excel('job-postings.xlsx', sheet_name='Job Postings', index=False)\n",
        "\n",
        "# Print all rows\n",
        "print(\"All job postings by location:\")\n",
        "print(df.to_string(index=False))\n"
      ],
      "metadata": {
        "colab": {
          "base_uri": "https://localhost:8080/"
        },
        "id": "8XMBTWAzoAt_",
        "outputId": "cd3133d9-7989-4c24-aa3b-b1ef282a2aba"
      },
      "execution_count": 68,
      "outputs": [
        {
          "output_type": "stream",
          "name": "stdout",
          "text": [
            "All job postings by location:\n",
            "     Location  Number of Jobs\n",
            "  Los Angeles             640\n",
            "     New York            3226\n",
            "San Francisco             435\n",
            "Washington DC            5316\n",
            "      Seattle            3375\n",
            "       Austin             434\n",
            "      Detroit            3945\n"
          ]
        }
      ]
    },
    {
      "cell_type": "markdown",
      "metadata": {
        "id": "WqRiPz6HnkKI"
      },
      "source": [
        "Calling the function for Python and checking if it works.\n"
      ]
    },
    {
      "cell_type": "code",
      "execution_count": 70,
      "metadata": {
        "colab": {
          "base_uri": "https://localhost:8080/"
        },
        "id": "GelLseYunkKJ",
        "outputId": "6a8db082-10a2-476a-ed5a-be642319f489"
      },
      "outputs": [
        {
          "output_type": "stream",
          "name": "stdout",
          "text": [
            "Number of Python jobs: 1173\n"
          ]
        }
      ],
      "source": [
        "# get_number_of_jobs_T(\"Python\")\n",
        "\n",
        "def get_number_of_jobs_T(technology, file_path):\n",
        "    \"\"\"\n",
        "    Get the number of jobs for a specific technology from a local JSON file.\n",
        "\n",
        "    :param technology: The technology to search for in job listings\n",
        "    :param file_path: The path to the local JSON file\n",
        "    :return: A tuple containing the technology and the number of job listings\n",
        "    \"\"\"\n",
        "    try:\n",
        "        # Read the JSON file\n",
        "        with open(file_path, 'r') as file:\n",
        "            jobs_data = json.load(file)\n",
        "\n",
        "        # Filter jobs that match the specified technology\n",
        "        jobs_for_technology = [job for job in jobs_data if technology in job.get('Key Skills', '')]\n",
        "\n",
        "        # Calculate the number of jobs\n",
        "        number_of_jobs = len(jobs_for_technology)\n",
        "\n",
        "        return technology, number_of_jobs\n",
        "\n",
        "    except Exception as e:\n",
        "        print(f\"An error occurred: {e}\")\n",
        "        return technology, 0\n",
        "\n",
        "# Example usage\n",
        "file_path = '/content/jobs.json'\n",
        "technology, number_of_jobs = get_number_of_jobs_T(\"Python\", file_path)\n",
        "print(f\"Number of {technology} jobs: {number_of_jobs}\")\n"
      ]
    },
    {
      "cell_type": "markdown",
      "metadata": {
        "id": "wWqflyVXnkKJ"
      },
      "source": [
        "#### Write a function to find number of jobs in US for a location of your choice\n"
      ]
    },
    {
      "cell_type": "code",
      "execution_count": null,
      "metadata": {
        "id": "6VGMPfq3nkKJ"
      },
      "outputs": [],
      "source": [
        "def get_number_of_jobs_L(location):\n",
        "\n",
        "    #your coe goes here\n",
        "    return location,number_of_jobs"
      ]
    },
    {
      "cell_type": "code",
      "source": [
        "def get_number_of_jobs_L(location, file_path):\n",
        "    \"\"\"\n",
        "    Get the number of jobs for a specific location from a local JSON file.\n",
        "\n",
        "    :param location: The location to search for in job listings\n",
        "    :param file_path: The path to the local JSON file\n",
        "    :return: A tuple containing the location and the number of job listings\n",
        "    \"\"\"\n",
        "    try:\n",
        "        # Read the JSON file\n",
        "        with open(file_path, 'r') as file:\n",
        "            jobs_data = json.load(file)\n",
        "\n",
        "        # Filter jobs that match the specified location\n",
        "        jobs_for_location = [job for job in jobs_data if location in job.get('Location', '')]\n",
        "\n",
        "        # Calculate the number of jobs\n",
        "        number_of_jobs = len(jobs_for_location)\n",
        "\n",
        "        return location, number_of_jobs\n",
        "\n",
        "    except Exception as e:\n",
        "        print(f\"An error occurred: {e}\")\n",
        "        return location, 0\n",
        "\n",
        "# Define the file path to the local JSON file\n",
        "file_path = '/content/jobs.json'\n",
        "\n",
        "# Example usage for all specified locations in the US\n",
        "locations = [\"Los Angeles\", \"New York\", \"San Francisco\", \"Washington DC\", \"Seattle\", \"Austin\", \"Detroit\"]\n",
        "\n",
        "# Collect job postings data for all locations\n",
        "results = [get_number_of_jobs_L(location, file_path) for location in locations]\n",
        "\n",
        "# Create DataFrame\n",
        "df = pd.DataFrame(results, columns=['Location', 'Number of Jobs'])\n",
        "\n",
        "# Write to Excel\n",
        "df.to_excel('job-postings.xlsx', sheet_name='Job Postings', index=False)\n",
        "\n",
        "# Print all rows\n",
        "print(\"All job postings by location:\")\n",
        "print(df.to_string(index=False))\n"
      ],
      "metadata": {
        "colab": {
          "base_uri": "https://localhost:8080/"
        },
        "id": "fSfXn_qoo54N",
        "outputId": "b425aef5-1795-489b-ce11-d3d6c18a93ae"
      },
      "execution_count": 71,
      "outputs": [
        {
          "output_type": "stream",
          "name": "stdout",
          "text": [
            "All job postings by location:\n",
            "     Location  Number of Jobs\n",
            "  Los Angeles             640\n",
            "     New York            3226\n",
            "San Francisco             435\n",
            "Washington DC            5316\n",
            "      Seattle            3375\n",
            "       Austin             434\n",
            "      Detroit            3945\n"
          ]
        }
      ]
    },
    {
      "cell_type": "markdown",
      "metadata": {
        "id": "pESTb4uZnkKJ"
      },
      "source": [
        "Call the function for Los Angeles and check if it is working.\n",
        "\n",
        "\n"
      ]
    },
    {
      "cell_type": "code",
      "execution_count": 72,
      "metadata": {
        "colab": {
          "base_uri": "https://localhost:8080/"
        },
        "id": "wcrwVs0HnkKJ",
        "outputId": "2235735d-82cb-44b2-f1df-6efd1508602c"
      },
      "outputs": [
        {
          "output_type": "stream",
          "name": "stdout",
          "text": [
            "Number of jobs in Los Angeles: 640\n"
          ]
        }
      ],
      "source": [
        "#your code goes here\n",
        "\n",
        "# Define the file path to the local JSON file\n",
        "file_path = '/content/jobs.json'\n",
        "\n",
        "# Call the function for Los Angeles\n",
        "location, number_of_jobs = get_number_of_jobs_L(\"Los Angeles\", file_path)\n",
        "print(f\"Number of jobs in {location}: {number_of_jobs}\")"
      ]
    },
    {
      "cell_type": "markdown",
      "metadata": {
        "id": "5f1f2Mr1nkKJ"
      },
      "source": [
        "### Store the results in an excel file\n"
      ]
    },
    {
      "cell_type": "markdown",
      "metadata": {
        "id": "kFGDE2LknkKJ"
      },
      "source": [
        "Call the API for all the given technologies above and write the results in an excel spreadsheet.\n"
      ]
    },
    {
      "cell_type": "markdown",
      "metadata": {
        "id": "-gGbogMJnkKJ"
      },
      "source": [
        "If you do not know how create excel file using python, double click here for **hints**.\n",
        "\n",
        "<!--\n",
        "\n",
        "from openpyxl import Workbook        # import Workbook class from module openpyxl\n",
        "wb=Workbook()                        # create a workbook object\n",
        "ws=wb.active                         # use the active worksheet\n",
        "ws.append(['Country','Continent'])   # add a row with two columns 'Country' and 'Continent'\n",
        "ws.append(['Eygpt','Africa'])        # add a row with two columns 'Egypt' and 'Africa'\n",
        "ws.append(['India','Asia'])          # add another row\n",
        "ws.append(['France','Europe'])       # add another row\n",
        "wb.save(\"countries.xlsx\")            # save the workbook into a file called countries.xlsx\n",
        "\n",
        "\n",
        "-->\n"
      ]
    },
    {
      "cell_type": "markdown",
      "metadata": {
        "id": "CDyU1XK_nkKL"
      },
      "source": [
        "Create a python list of all locations for which you need to find the number of jobs postings.\n"
      ]
    },
    {
      "cell_type": "code",
      "execution_count": 73,
      "metadata": {
        "colab": {
          "base_uri": "https://localhost:8080/"
        },
        "id": "PIL9U-nznkKL",
        "outputId": "5bca75c6-7ef8-4024-9a22-ad6ceb3877db"
      },
      "outputs": [
        {
          "output_type": "stream",
          "name": "stdout",
          "text": [
            "All job postings by location and technology:\n",
            "     Location   Technology  Number of Jobs\n",
            "  Los Angeles            C             296\n",
            "     New York            C            1622\n",
            "San Francisco            C             214\n",
            "Washington DC            C            2664\n",
            "      Seattle            C            1668\n",
            "       Austin            C             224\n",
            "      Detroit            C            1973\n",
            "  Los Angeles           C#               5\n",
            "     New York           C#              41\n",
            "San Francisco           C#               3\n",
            "Washington DC           C#              68\n",
            "      Seattle           C#              49\n",
            "       Austin           C#               5\n",
            "      Detroit           C#              60\n",
            "  Los Angeles          C++               3\n",
            "     New York          C++              43\n",
            "San Francisco          C++               3\n",
            "Washington DC          C++              55\n",
            "      Seattle          C++              41\n",
            "       Austin          C++               4\n",
            "      Detroit          C++              32\n",
            "  Los Angeles         Java              43\n",
            "     New York         Java             326\n",
            "San Francisco         Java              38\n",
            "Washington DC         Java             516\n",
            "      Seattle         Java             354\n",
            "       Austin         Java              32\n",
            "      Detroit         Java             353\n",
            "  Los Angeles   JavaScript               7\n",
            "     New York   JavaScript              51\n",
            "San Francisco   JavaScript               7\n",
            "Washington DC   JavaScript              61\n",
            "      Seattle   JavaScript              52\n",
            "       Austin   JavaScript               5\n",
            "      Detroit   JavaScript              41\n",
            "  Los Angeles       Python              24\n",
            "     New York       Python             143\n",
            "San Francisco       Python              17\n",
            "Washington DC       Python             258\n",
            "      Seattle       Python             133\n",
            "       Austin       Python              15\n",
            "      Detroit       Python             170\n",
            "  Los Angeles        Scala               0\n",
            "     New York        Scala               8\n",
            "San Francisco        Scala               0\n",
            "Washington DC        Scala               3\n",
            "      Seattle        Scala               4\n",
            "       Austin        Scala               1\n",
            "      Detroit        Scala               5\n",
            "  Los Angeles       Oracle              17\n",
            "     New York       Oracle              95\n",
            "San Francisco       Oracle              19\n",
            "Washington DC       Oracle             143\n",
            "      Seattle       Oracle             110\n",
            "       Austin       Oracle              11\n",
            "      Detroit       Oracle             115\n",
            "  Los Angeles   SQL Server               3\n",
            "     New York   SQL Server              36\n",
            "San Francisco   SQL Server               2\n",
            "Washington DC   SQL Server              53\n",
            "      Seattle   SQL Server              31\n",
            "       Austin   SQL Server               5\n",
            "      Detroit   SQL Server              34\n",
            "  Los Angeles MySQL Server               0\n",
            "     New York MySQL Server               0\n",
            "San Francisco MySQL Server               0\n",
            "Washington DC MySQL Server               0\n",
            "      Seattle MySQL Server               0\n",
            "       Austin MySQL Server               0\n",
            "      Detroit MySQL Server               0\n",
            "  Los Angeles   PostgreSQL               0\n",
            "     New York   PostgreSQL               1\n",
            "San Francisco   PostgreSQL               0\n",
            "Washington DC   PostgreSQL               3\n",
            "      Seattle   PostgreSQL               1\n",
            "       Austin   PostgreSQL               0\n",
            "      Detroit   PostgreSQL               2\n",
            "  Los Angeles      MongoDB               2\n",
            "     New York      MongoDB              25\n",
            "San Francisco      MongoDB               2\n",
            "Washington DC      MongoDB              32\n",
            "      Seattle      MongoDB              21\n",
            "       Austin      MongoDB               1\n",
            "      Detroit      MongoDB              25\n"
          ]
        }
      ],
      "source": [
        "#your code goes here\n",
        "\n",
        "import json\n",
        "import pandas as pd\n",
        "\n",
        "def get_number_of_jobs_L(location, technology, file_path):\n",
        "    \"\"\"\n",
        "    Get the number of jobs for a specific location and technology from a local JSON file.\n",
        "\n",
        "    :param location: The location to search for in job listings\n",
        "    :param technology: The technology to search for in job listings\n",
        "    :param file_path: The path to the local JSON file\n",
        "    :return: A tuple containing the location, technology, and the number of job listings\n",
        "    \"\"\"\n",
        "    try:\n",
        "        # Read the JSON file\n",
        "        with open(file_path, 'r') as file:\n",
        "            jobs_data = json.load(file)\n",
        "\n",
        "        # Filter jobs that match the specified location and technology\n",
        "        jobs_for_location_tech = [job for job in jobs_data if location in job.get('Location', '') and technology in job.get('Key Skills', '')]\n",
        "\n",
        "        # Calculate the number of jobs\n",
        "        number_of_jobs = len(jobs_for_location_tech)\n",
        "\n",
        "        return location, technology, number_of_jobs\n",
        "\n",
        "    except Exception as e:\n",
        "        print(f\"An error occurred: {e}\")\n",
        "        return location, technology, 0\n",
        "\n",
        "# Define the file path to the local JSON file\n",
        "file_path = '/content/jobs.json'\n",
        "\n",
        "# List of locations and technologies\n",
        "locations = [\"Los Angeles\", \"New York\", \"San Francisco\", \"Washington DC\", \"Seattle\", \"Austin\", \"Detroit\"]\n",
        "technologies = [\"C\", \"C#\", \"C++\", \"Java\", \"JavaScript\", \"Python\", \"Scala\", \"Oracle\", \"SQL Server\", \"MySQL Server\", \"PostgreSQL\", \"MongoDB\"]\n",
        "\n",
        "# Collect job postings data\n",
        "results = []\n",
        "for technology in technologies:\n",
        "    for location in locations:\n",
        "        result = get_number_of_jobs_L(location, technology, file_path)\n",
        "        results.append(result)\n",
        "\n",
        "# Create DataFrame\n",
        "df = pd.DataFrame(results, columns=['Location', 'Technology', 'Number of Jobs'])\n",
        "\n",
        "# Write to Excel\n",
        "df.to_excel('job-postings.xlsx', sheet_name='Job Postings', index=False)\n",
        "\n",
        "# Print all rows\n",
        "print(\"All job postings by location and technology:\")\n",
        "print(df.to_string(index=False))\n",
        "\n"
      ]
    },
    {
      "cell_type": "markdown",
      "metadata": {
        "id": "zLIVOupDnkKL"
      },
      "source": [
        "Import libraries required to create excel spreadsheet\n"
      ]
    },
    {
      "cell_type": "code",
      "execution_count": 74,
      "metadata": {
        "colab": {
          "base_uri": "https://localhost:8080/"
        },
        "id": "EO0J6rOEnkKL",
        "outputId": "f283fa12-58bf-4713-81cf-9a2226ac4212"
      },
      "outputs": [
        {
          "output_type": "stream",
          "name": "stdout",
          "text": [
            "Requirement already satisfied: pandas in /usr/local/lib/python3.10/dist-packages (2.2.2)\n",
            "Requirement already satisfied: openpyxl in /usr/local/lib/python3.10/dist-packages (3.1.5)\n",
            "Requirement already satisfied: numpy>=1.22.4 in /usr/local/lib/python3.10/dist-packages (from pandas) (1.26.4)\n",
            "Requirement already satisfied: python-dateutil>=2.8.2 in /usr/local/lib/python3.10/dist-packages (from pandas) (2.8.2)\n",
            "Requirement already satisfied: pytz>=2020.1 in /usr/local/lib/python3.10/dist-packages (from pandas) (2024.2)\n",
            "Requirement already satisfied: tzdata>=2022.7 in /usr/local/lib/python3.10/dist-packages (from pandas) (2024.2)\n",
            "Requirement already satisfied: et-xmlfile in /usr/local/lib/python3.10/dist-packages (from openpyxl) (2.0.0)\n",
            "Requirement already satisfied: six>=1.5 in /usr/local/lib/python3.10/dist-packages (from python-dateutil>=2.8.2->pandas) (1.16.0)\n"
          ]
        }
      ],
      "source": [
        "# your code goes here\n",
        "\n",
        "!pip install pandas openpyxl\n",
        "\n",
        "import json\n",
        "import pandas as pd  # For data manipulation and creating DataFrames\n",
        "import openpyxl      # For handling Excel files"
      ]
    },
    {
      "cell_type": "markdown",
      "metadata": {
        "id": "YszfXOW8nkKM"
      },
      "source": [
        "Create a workbook and select the active worksheet\n"
      ]
    },
    {
      "cell_type": "code",
      "execution_count": 75,
      "metadata": {
        "id": "LY7p5d1_nkKM"
      },
      "outputs": [],
      "source": [
        "# your code goes here\n",
        "\n",
        "import openpyxl\n",
        "\n",
        "# Create a new workbook\n",
        "workbook = openpyxl.Workbook()\n",
        "\n",
        "# Select the active worksheet\n",
        "sheet = workbook.active\n",
        "\n",
        "# Optionally, you can give the worksheet a title\n",
        "sheet.title = \"Job Postings\"\n",
        "\n",
        "# Save the workbook\n",
        "workbook.save('job-postings.xlsx')\n"
      ]
    },
    {
      "cell_type": "markdown",
      "metadata": {
        "id": "hotQvDDmnkKM"
      },
      "source": [
        "Find the number of jobs postings for each of the location in the above list.\n",
        "Write the Location name and the number of jobs postings into the excel spreadsheet.\n"
      ]
    },
    {
      "cell_type": "code",
      "execution_count": 77,
      "metadata": {
        "colab": {
          "base_uri": "https://localhost:8080/"
        },
        "id": "cQbr5L3EnkKM",
        "outputId": "9dea9cec-815f-43a0-ec04-85bb2aa453c0"
      },
      "outputs": [
        {
          "output_type": "stream",
          "name": "stdout",
          "text": [
            "All job postings by location:\n",
            "     Location  Number of Jobs\n",
            "  Los Angeles             640\n",
            "     New York            3226\n",
            "San Francisco             435\n",
            "Washington DC            5316\n",
            "      Seattle            3375\n",
            "       Austin             434\n",
            "      Detroit            3945\n"
          ]
        }
      ],
      "source": [
        "#your code goes here\n",
        "\n",
        "import json\n",
        "import pandas as pd\n",
        "from openpyxl import Workbook\n",
        "from openpyxl.utils.dataframe import dataframe_to_rows\n",
        "\n",
        "def get_number_of_jobs_L(location, file_path):\n",
        "    \"\"\"\n",
        "    Get the number of jobs for a specific location from a local JSON file.\n",
        "\n",
        "    :param location: The location to search for in job listings\n",
        "    :param file_path: The path to the local JSON file\n",
        "    :return: A tuple containing the location and the number of job listings\n",
        "    \"\"\"\n",
        "    try:\n",
        "        # Read the JSON file\n",
        "        with open(file_path, 'r') as file:\n",
        "            jobs_data = json.load(file)\n",
        "\n",
        "        # Filter jobs that match the specified location\n",
        "        jobs_for_location = [job for job in jobs_data if location in job.get('Location', '')]\n",
        "\n",
        "        # Calculate the number of jobs\n",
        "        number_of_jobs = len(jobs_for_location)\n",
        "\n",
        "        return location, number_of_jobs\n",
        "\n",
        "    except Exception as e:\n",
        "        print(f\"An error occurred: {e}\")\n",
        "        return location, 0\n",
        "\n",
        "# Define the file path to the local JSON file\n",
        "file_path = '/content/jobs.json'\n",
        "\n",
        "# List of locations\n",
        "locations = [\"Los Angeles\", \"New York\", \"San Francisco\", \"Washington DC\", \"Seattle\", \"Austin\", \"Detroit\"]\n",
        "\n",
        "# Collect job postings data for all locations\n",
        "results = [get_number_of_jobs_L(location, file_path) for location in locations]\n",
        "\n",
        "# Create DataFrame\n",
        "df = pd.DataFrame(results, columns=['Location', 'Number of Jobs'])\n",
        "\n",
        "# Create a new workbook and select the active worksheet\n",
        "workbook = Workbook()\n",
        "sheet = workbook.active\n",
        "sheet.title = \"Job Postings\"\n",
        "\n",
        "# Write the DataFrame to the active worksheet\n",
        "for row in dataframe_to_rows(df, index=False, header=True):\n",
        "    sheet.append(row)\n",
        "\n",
        "# Save the workbook\n",
        "workbook.save('job-postings.xlsx')\n",
        "\n",
        "# Print all rows\n",
        "print(\"All job postings by location:\")\n",
        "print(df.to_string(index=False))\n"
      ]
    },
    {
      "cell_type": "markdown",
      "metadata": {
        "id": "eOIhsLjqnkKM"
      },
      "source": [
        "Save into an excel spreadsheet named 'job-postings.xlsx'.\n"
      ]
    },
    {
      "cell_type": "code",
      "execution_count": 78,
      "metadata": {
        "colab": {
          "base_uri": "https://localhost:8080/"
        },
        "id": "BpFwSNoVnkKN",
        "outputId": "e79ecfc8-c76b-4362-d626-4c35cf768695"
      },
      "outputs": [
        {
          "output_type": "stream",
          "name": "stdout",
          "text": [
            "All job postings by location:\n",
            "     Location  Number of Jobs\n",
            "  Los Angeles             640\n",
            "     New York            3226\n",
            "San Francisco             435\n",
            "Washington DC            5316\n",
            "      Seattle            3375\n",
            "       Austin             434\n",
            "      Detroit            3945\n"
          ]
        }
      ],
      "source": [
        "#your code goes here\n",
        "\n",
        "import json\n",
        "import pandas as pd\n",
        "from openpyxl import Workbook\n",
        "from openpyxl.utils.dataframe import dataframe_to_rows\n",
        "\n",
        "def get_number_of_jobs_L(location, file_path):\n",
        "    \"\"\"\n",
        "    Get the number of jobs for a specific location from a local JSON file.\n",
        "\n",
        "    :param location: The location to search for in job listings\n",
        "    :param file_path: The path to the local JSON file\n",
        "    :return: A tuple containing the location and the number of job listings\n",
        "    \"\"\"\n",
        "    try:\n",
        "        # Read the JSON file\n",
        "        with open(file_path, 'r') as file:\n",
        "            jobs_data = json.load(file)\n",
        "\n",
        "        # Filter jobs that match the specified location\n",
        "        jobs_for_location = [job for job in jobs_data if location in job.get('Location', '')]\n",
        "\n",
        "        # Calculate the number of jobs\n",
        "        number_of_jobs = len(jobs_for_location)\n",
        "\n",
        "        return location, number_of_jobs\n",
        "\n",
        "    except Exception as e:\n",
        "        print(f\"An error occurred: {e}\")\n",
        "        return location, 0\n",
        "\n",
        "# Define the file path to the local JSON file\n",
        "file_path = '/content/jobs.json'\n",
        "\n",
        "# List of locations\n",
        "locations = [\"Los Angeles\", \"New York\", \"San Francisco\", \"Washington DC\", \"Seattle\", \"Austin\", \"Detroit\"]\n",
        "\n",
        "# Collect job postings data for all locations\n",
        "results = [get_number_of_jobs_L(location, file_path) for location in locations]\n",
        "\n",
        "# Create DataFrame\n",
        "df = pd.DataFrame(results, columns=['Location', 'Number of Jobs'])\n",
        "\n",
        "# Create a new workbook and select the active worksheet\n",
        "workbook = Workbook()\n",
        "sheet = workbook.active\n",
        "sheet.title = \"Job Postings\"\n",
        "\n",
        "# Write the DataFrame to the active worksheet\n",
        "for row in dataframe_to_rows(df, index=False, header=True):\n",
        "    sheet.append(row)\n",
        "\n",
        "# Save the workbook\n",
        "workbook.save('job-postings.xlsx')\n",
        "\n",
        "# Print all rows\n",
        "print(\"All job postings by location:\")\n",
        "print(df.to_string(index=False))\n"
      ]
    },
    {
      "cell_type": "markdown",
      "metadata": {
        "id": "MmA8fLlQnkKN"
      },
      "source": [
        "#### In the similar way, you can try for below given technologies and results  can be stored in an excel sheet.\n"
      ]
    },
    {
      "cell_type": "markdown",
      "metadata": {
        "id": "0dK8D7fqnkKN"
      },
      "source": [
        "Collect the number of job postings for the following languages using the API:\n",
        "\n",
        "*   C\n",
        "*   C#\n",
        "*   C++\n",
        "*   Java\n",
        "*   JavaScript\n",
        "*   Python\n",
        "*   Scala\n",
        "*   Oracle\n",
        "*   SQL Server\n",
        "*   MySQL Server\n",
        "*   PostgreSQL\n",
        "*   MongoDB\n"
      ]
    },
    {
      "cell_type": "code",
      "execution_count": 79,
      "metadata": {
        "colab": {
          "base_uri": "https://localhost:8080/"
        },
        "collapsed": true,
        "id": "x8pOmYvRnkKN",
        "outputId": "69aa77b6-14cf-4a0d-8283-7d1b50f4dc91"
      },
      "outputs": [
        {
          "output_type": "stream",
          "name": "stdout",
          "text": [
            "All job postings by location and technology:\n",
            "     Location   Technology  Number of Jobs\n",
            "  Los Angeles            C             296\n",
            "  Los Angeles           C#               5\n",
            "  Los Angeles          C++               3\n",
            "  Los Angeles         Java              43\n",
            "  Los Angeles   JavaScript               7\n",
            "  Los Angeles       Python              24\n",
            "  Los Angeles        Scala               0\n",
            "  Los Angeles       Oracle              17\n",
            "  Los Angeles   SQL Server               3\n",
            "  Los Angeles MySQL Server               0\n",
            "  Los Angeles   PostgreSQL               0\n",
            "  Los Angeles      MongoDB               2\n",
            "     New York            C            1622\n",
            "     New York           C#              41\n",
            "     New York          C++              43\n",
            "     New York         Java             326\n",
            "     New York   JavaScript              51\n",
            "     New York       Python             143\n",
            "     New York        Scala               8\n",
            "     New York       Oracle              95\n",
            "     New York   SQL Server              36\n",
            "     New York MySQL Server               0\n",
            "     New York   PostgreSQL               1\n",
            "     New York      MongoDB              25\n",
            "San Francisco            C             214\n",
            "San Francisco           C#               3\n",
            "San Francisco          C++               3\n",
            "San Francisco         Java              38\n",
            "San Francisco   JavaScript               7\n",
            "San Francisco       Python              17\n",
            "San Francisco        Scala               0\n",
            "San Francisco       Oracle              19\n",
            "San Francisco   SQL Server               2\n",
            "San Francisco MySQL Server               0\n",
            "San Francisco   PostgreSQL               0\n",
            "San Francisco      MongoDB               2\n",
            "Washington DC            C            2664\n",
            "Washington DC           C#              68\n",
            "Washington DC          C++              55\n",
            "Washington DC         Java             516\n",
            "Washington DC   JavaScript              61\n",
            "Washington DC       Python             258\n",
            "Washington DC        Scala               3\n",
            "Washington DC       Oracle             143\n",
            "Washington DC   SQL Server              53\n",
            "Washington DC MySQL Server               0\n",
            "Washington DC   PostgreSQL               3\n",
            "Washington DC      MongoDB              32\n",
            "      Seattle            C            1668\n",
            "      Seattle           C#              49\n",
            "      Seattle          C++              41\n",
            "      Seattle         Java             354\n",
            "      Seattle   JavaScript              52\n",
            "      Seattle       Python             133\n",
            "      Seattle        Scala               4\n",
            "      Seattle       Oracle             110\n",
            "      Seattle   SQL Server              31\n",
            "      Seattle MySQL Server               0\n",
            "      Seattle   PostgreSQL               1\n",
            "      Seattle      MongoDB              21\n",
            "       Austin            C             224\n",
            "       Austin           C#               5\n",
            "       Austin          C++               4\n",
            "       Austin         Java              32\n",
            "       Austin   JavaScript               5\n",
            "       Austin       Python              15\n",
            "       Austin        Scala               1\n",
            "       Austin       Oracle              11\n",
            "       Austin   SQL Server               5\n",
            "       Austin MySQL Server               0\n",
            "       Austin   PostgreSQL               0\n",
            "       Austin      MongoDB               1\n",
            "      Detroit            C            1973\n",
            "      Detroit           C#              60\n",
            "      Detroit          C++              32\n",
            "      Detroit         Java             353\n",
            "      Detroit   JavaScript              41\n",
            "      Detroit       Python             170\n",
            "      Detroit        Scala               5\n",
            "      Detroit       Oracle             115\n",
            "      Detroit   SQL Server              34\n",
            "      Detroit MySQL Server               0\n",
            "      Detroit   PostgreSQL               2\n",
            "      Detroit      MongoDB              25\n"
          ]
        }
      ],
      "source": [
        "# your code goes here\n",
        "\n",
        "import json\n",
        "import pandas as pd\n",
        "from openpyxl import Workbook\n",
        "from openpyxl.utils.dataframe import dataframe_to_rows\n",
        "\n",
        "def get_number_of_jobs_L(location, technology, file_path):\n",
        "    \"\"\"\n",
        "    Get the number of jobs for a specific location and technology from a local JSON file.\n",
        "\n",
        "    :param location: The location to search for in job listings\n",
        "    :param technology: The technology to search for in job listings\n",
        "    :param file_path: The path to the local JSON file\n",
        "    :return: A tuple containing the location, technology, and the number of job listings\n",
        "    \"\"\"\n",
        "    try:\n",
        "        # Read the JSON file\n",
        "        with open(file_path, 'r') as file:\n",
        "            jobs_data = json.load(file)\n",
        "\n",
        "        # Filter jobs that match the specified location and technology\n",
        "        jobs_for_location_tech = [job for job in jobs_data if location in job.get('Location', '') and technology in job.get('Key Skills', '')]\n",
        "\n",
        "        # Calculate the number of jobs\n",
        "        number_of_jobs = len(jobs_for_location_tech)\n",
        "\n",
        "        return location, technology, number_of_jobs\n",
        "\n",
        "    except Exception as e:\n",
        "        print(f\"An error occurred: {e}\")\n",
        "        return location, technology, 0\n",
        "\n",
        "# Define the file path to the local JSON file\n",
        "file_path = '/content/jobs.json'\n",
        "\n",
        "# List of locations and technologies\n",
        "locations = [\"Los Angeles\", \"New York\", \"San Francisco\", \"Washington DC\", \"Seattle\", \"Austin\", \"Detroit\"]\n",
        "technologies = [\"C\", \"C#\", \"C++\", \"Java\", \"JavaScript\", \"Python\", \"Scala\", \"Oracle\", \"SQL Server\", \"MySQL Server\", \"PostgreSQL\", \"MongoDB\"]\n",
        "\n",
        "# Collect job postings data for all locations and technologies\n",
        "results = []\n",
        "for location in locations:\n",
        "    for technology in technologies:\n",
        "        result = get_number_of_jobs_L(location, technology, file_path)\n",
        "        results.append(result)\n",
        "\n",
        "# Create DataFrame\n",
        "df = pd.DataFrame(results, columns=['Location', 'Technology', 'Number of Jobs'])\n",
        "\n",
        "# Create a new workbook and select the active worksheet\n",
        "workbook = Workbook()\n",
        "sheet = workbook.active\n",
        "sheet.title = \"Job Postings\"\n",
        "\n",
        "# Write the DataFrame to the active worksheet\n",
        "for row in dataframe_to_rows(df, index=False, header=True):\n",
        "    sheet.append(row)\n",
        "\n",
        "# Save the workbook\n",
        "workbook.save('job-postings.xlsx')\n",
        "\n",
        "# Print all rows\n",
        "print(\"All job postings by location and technology:\")\n",
        "print(df.to_string(index=False))\n"
      ]
    },
    {
      "cell_type": "code",
      "source": [
        "# Technology job postings ny city\n",
        "\n",
        "import json\n",
        "import pandas as pd\n",
        "from openpyxl import Workbook\n",
        "\n",
        "def get_number_of_jobs_L(location, technology, file_path):\n",
        "    \"\"\"\n",
        "    Get the number of jobs for a specific location and technology from a local JSON file.\n",
        "\n",
        "    :param location: The location to search for in job listings\n",
        "    :param technology: The technology to search for in job listings\n",
        "    :param file_path: The path to the local JSON file\n",
        "    :return: A tuple containing the location, technology, and the number of job listings\n",
        "    \"\"\"\n",
        "    try:\n",
        "        # Read the JSON file\n",
        "        with open(file_path, 'r') as file:\n",
        "            jobs_data = json.load(file)\n",
        "\n",
        "        # Filter jobs that match the specified location and technology\n",
        "        jobs_for_location_tech = [job for job in jobs_data if location in job.get('Location', '') and technology in job.get('Key Skills', '')]\n",
        "\n",
        "        # Calculate the number of jobs\n",
        "        number_of_jobs = len(jobs_for_location_tech)\n",
        "\n",
        "        return location, technology, number_of_jobs\n",
        "\n",
        "    except Exception as e:\n",
        "        print(f\"An error occurred: {e}\")\n",
        "        return location, technology, 0\n",
        "\n",
        "# Define the file path to the local JSON file\n",
        "file_path = '/content/jobs.json'\n",
        "\n",
        "# List of locations and technologies\n",
        "locations = [\"Los Angeles\", \"New York\", \"San Francisco\", \"Washington DC\", \"Seattle\", \"Austin\", \"Detroit\"]\n",
        "technologies = [\"C\", \"C#\", \"C++\", \"Java\", \"JavaScript\", \"Python\", \"Scala\", \"Oracle\", \"SQL Server\", \"MySQL Server\", \"PostgreSQL\", \"MongoDB\"]\n",
        "\n",
        "# Collect job postings data for all locations and technologies\n",
        "results = []\n",
        "for location in locations:\n",
        "    for technology in technologies:\n",
        "        result = get_number_of_jobs_L(location, technology, file_path)\n",
        "        results.append(result)\n",
        "\n",
        "# Create DataFrame\n",
        "df = pd.DataFrame(results, columns=['Location', 'Technology', 'Number of Jobs'])\n",
        "\n",
        "# Pivot the DataFrame\n",
        "pivot_table = df.pivot(index='Technology', columns='Location', values='Number of Jobs').fillna(0)\n",
        "\n",
        "# Create a new workbook and select the active worksheet\n",
        "workbook = Workbook()\n",
        "sheet = workbook.active\n",
        "sheet.title = \"Job Postings\"\n",
        "\n",
        "# Write the pivot table to the active worksheet\n",
        "for r_idx, row in enumerate(pivot_table.itertuples(), 1):\n",
        "    sheet.append([pivot_table.index[r_idx - 1]] + list(row[1:]))\n",
        "\n",
        "# Add column headers\n",
        "sheet.insert_rows(1)\n",
        "sheet.append(['Technology'] + list(pivot_table.columns))\n",
        "\n",
        "# Save the workbook\n",
        "workbook.save('job-postings.xlsx')\n",
        "\n",
        "# Print all rows for verification\n",
        "print(\"All job postings by technology and location:\")\n",
        "print(pivot_table)\n"
      ],
      "metadata": {
        "colab": {
          "base_uri": "https://localhost:8080/"
        },
        "id": "u6ul2iW0Ig2w",
        "outputId": "9757ab90-0b42-41bc-ca54-cb5e3a04b47a"
      },
      "execution_count": 83,
      "outputs": [
        {
          "output_type": "stream",
          "name": "stdout",
          "text": [
            "All job postings by technology and location:\n",
            "Location      Austin  Detroit  Los Angeles  New York  San Francisco  Seattle  \\\n",
            "Technology                                                                     \n",
            "C                224     1973          296      1622            214     1668   \n",
            "C#                 5       60            5        41              3       49   \n",
            "C++                4       32            3        43              3       41   \n",
            "Java              32      353           43       326             38      354   \n",
            "JavaScript         5       41            7        51              7       52   \n",
            "MongoDB            1       25            2        25              2       21   \n",
            "MySQL Server       0        0            0         0              0        0   \n",
            "Oracle            11      115           17        95             19      110   \n",
            "PostgreSQL         0        2            0         1              0        1   \n",
            "Python            15      170           24       143             17      133   \n",
            "SQL Server         5       34            3        36              2       31   \n",
            "Scala              1        5            0         8              0        4   \n",
            "\n",
            "Location      Washington DC  \n",
            "Technology                   \n",
            "C                      2664  \n",
            "C#                       68  \n",
            "C++                      55  \n",
            "Java                    516  \n",
            "JavaScript               61  \n",
            "MongoDB                  32  \n",
            "MySQL Server              0  \n",
            "Oracle                  143  \n",
            "PostgreSQL                3  \n",
            "Python                  258  \n",
            "SQL Server               53  \n",
            "Scala                     3  \n"
          ]
        }
      ]
    },
    {
      "cell_type": "code",
      "source": [
        "# Bar graph of technology job postings\n",
        "\n",
        "import json\n",
        "import pandas as pd\n",
        "import matplotlib.pyplot as plt\n",
        "\n",
        "def get_number_of_jobs_T(technology, file_path):\n",
        "    \"\"\"\n",
        "    Get the number of jobs for a specific technology from a local JSON file.\n",
        "\n",
        "    :param technology: The technology to search for in job listings\n",
        "    :param file_path: The path to the local JSON file\n",
        "    :return: A tuple containing the technology and the number of job listings\n",
        "    \"\"\"\n",
        "    try:\n",
        "        # Read the JSON file\n",
        "        with open(file_path, 'r') as file:\n",
        "            jobs_data = json.load(file)\n",
        "\n",
        "        # Filter jobs that match the specified technology\n",
        "        jobs_for_technology = [job for job in jobs_data if technology in job.get('Key Skills', '')]\n",
        "\n",
        "        # Calculate the number of jobs\n",
        "        number_of_jobs = len(jobs_for_technology)\n",
        "\n",
        "        return technology, number_of_jobs\n",
        "\n",
        "    except Exception as e:\n",
        "        print(f\"An error occurred: {e}\")\n",
        "        return technology, 0\n",
        "\n",
        "# Define the file path to the local JSON file\n",
        "file_path = '/content/jobs.json'\n",
        "\n",
        "# List of technologies\n",
        "technologies = [\"C\", \"C#\", \"C++\", \"Java\", \"JavaScript\", \"Python\", \"Scala\", \"Oracle\", \"SQL Server\", \"MySQL Server\", \"PostgreSQL\", \"MongoDB\"]\n",
        "\n",
        "# Collect job postings data for all technologies\n",
        "results = [get_number_of_jobs_T(technology, file_path) for technology in technologies]\n",
        "\n",
        "# Create DataFrame\n",
        "df = pd.DataFrame(results, columns=['Technology', 'Number of Jobs'])\n",
        "\n",
        "# Rank DataFrame from high to low\n",
        "df = df.sort_values(by='Number of Jobs', ascending=False)\n",
        "\n",
        "# Generate bar chart\n",
        "plt.figure(figsize=(10, 6))\n",
        "plt.bar(df['Technology'], df['Number of Jobs'], color='skyblue')\n",
        "plt.xlabel('Technology')\n",
        "plt.ylabel('Number of Jobs')\n",
        "plt.title('Job Openings by Technology')\n",
        "plt.xticks(rotation=45)\n",
        "plt.tight_layout()\n",
        "plt.savefig('job_openings_by_technology.png')\n",
        "plt.show()\n",
        "\n",
        "# Print all rows\n",
        "print(\"All job postings by technology (ranked high to low):\")\n",
        "print(df.to_string(index=False))\n"
      ],
      "metadata": {
        "colab": {
          "base_uri": "https://localhost:8080/",
          "height": 850
        },
        "id": "FYLbSwZEI8YL",
        "outputId": "d9843240-ea42-469e-c252-93c9821407be"
      },
      "execution_count": 82,
      "outputs": [
        {
          "output_type": "display_data",
          "data": {
            "text/plain": [
              "<Figure size 1000x600 with 1 Axes>"
            ],
            "image/png": "[encoded data removed]"
          },
          "metadata": {}
        },
        {
          "output_type": "stream",
          "name": "stdout",
          "text": [
            "All job postings by technology (ranked high to low):\n",
            "  Technology  Number of Jobs\n",
            "           C           13498\n",
            "        Java            2609\n",
            "      Python            1173\n",
            "      Oracle             784\n",
            "  JavaScript             355\n",
            "          C#             333\n",
            "         C++             305\n",
            "  SQL Server             250\n",
            "     MongoDB             174\n",
            "       Scala              33\n",
            "  PostgreSQL              10\n",
            "MySQL Server               0\n"
          ]
        }
      ]
    },
    {
      "cell_type": "markdown",
      "metadata": {
        "id": "jZnNxiHTnkKO"
      },
      "source": [
        "## Author\n"
      ]
    },
    {
      "cell_type": "markdown",
      "metadata": {
        "id": "gw4G8NEMnkKO"
      },
      "source": [
        "Ayushi Jain\n"
      ]
    },
    {
      "cell_type": "markdown",
      "metadata": {
        "id": "zw5B3xeznkKO"
      },
      "source": [
        "### Other Contributors\n"
      ]
    },
    {
      "cell_type": "markdown",
      "metadata": {
        "id": "VgZBMQtbnkKO"
      },
      "source": [
        "Rav Ahuja\n",
        "\n",
        "Lakshmi Holla\n",
        "\n",
        "Malika\n"
      ]
    },
    {
      "cell_type": "markdown",
      "metadata": {
        "id": "QpTUuEQ2nkKO"
      },
      "source": [
        "## Change Log\n"
      ]
    },
    {
      "cell_type": "markdown",
      "metadata": {
        "id": "KNJSMFKwnkKP"
      },
      "source": [
        "| Date (YYYY-MM-DD) | Version | Changed By        | Change Description                 |\n",
        "| ----------------- | ------- | ----------------- | ---------------------------------- |\n",
        "| 2022-01-19        | 0.3     | Lakshmi Holla        | Added changes in the markdown      |\n",
        "| 2021-06-25        | 0.2     | Malika            | Updated GitHub job json link       |\n",
        "| 2020-10-17        | 0.1     | Ramesh Sannareddy | Created initial version of the lab |\n"
      ]
    },
    {
      "cell_type": "markdown",
      "metadata": {
        "id": "QDpWe0ilnkKP"
      },
      "source": [
        "Copyright © 2022 IBM Corporation. All rights reserved.\n"
      ]
    }
  ],
  "metadata": {
    "kernelspec": {
      "display_name": "Python",
      "language": "python",
      "name": "conda-env-python-py"
    },
    "language_info": {
      "name": ""
    },
    "colab": {
      "provenance": []
    }
  },
  "nbformat": 4,
  "nbformat_minor": 0
}