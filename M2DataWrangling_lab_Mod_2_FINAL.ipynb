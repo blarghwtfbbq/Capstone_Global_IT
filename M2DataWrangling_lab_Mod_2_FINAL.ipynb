{
  "cells": [
    {
      "cell_type": "markdown",
      "metadata": {
        "id": "s9lTi0RcWHKd"
      },
      "source": [
        "<p style=\"text-align:center\">\n",
        "    <a href=\"https://skills.network/?utm_medium=Exinfluencer&utm_source=Exinfluencer&utm_content=000026UJ&utm_term=10006555&utm_id=NA-SkillsNetwork-Channel-SkillsNetworkCoursesIBMDA0321ENSkillsNetwork928-2022-01-01\" target=\"_blank\">\n",
        "    <img src=\"https://cf-courses-data.s3.us.cloud-object-storage.appdomain.cloud/assets/logos/SN_web_lightmode.png\" width=\"200\" alt=\"Skills Network Logo\"  />\n",
        "    </a>\n",
        "</p>\n"
      ]
    },
    {
      "cell_type": "markdown",
      "metadata": {
        "id": "RAUIEzOsWHKf"
      },
      "source": [
        "# **Data Wrangling Lab**\n"
      ]
    },
    {
      "cell_type": "markdown",
      "metadata": {
        "id": "neQd99FHWHKg"
      },
      "source": [
        "Estimated time needed: **45 to 60** minutes\n"
      ]
    },
    {
      "cell_type": "markdown",
      "metadata": {
        "id": "RVqrUVamWHKg"
      },
      "source": [
        "In this assignment you will be performing data wrangling.\n"
      ]
    },
    {
      "cell_type": "markdown",
      "metadata": {
        "id": "C38ZPco4WHKg"
      },
      "source": [
        "## Objectives\n"
      ]
    },
    {
      "cell_type": "markdown",
      "metadata": {
        "id": "dnH_p7wBWHKh"
      },
      "source": [
        "In this lab you will perform the following:\n"
      ]
    },
    {
      "cell_type": "markdown",
      "metadata": {
        "id": "arTXRE8CWHKh"
      },
      "source": [
        "-   Identify duplicate values in the dataset.\n",
        "\n",
        "-   Remove duplicate values from the dataset.\n",
        "\n",
        "-   Identify missing values in the dataset.\n",
        "\n",
        "-   Impute the missing values in the dataset.\n",
        "\n",
        "-   Normalize data in the dataset.\n"
      ]
    },
    {
      "cell_type": "markdown",
      "metadata": {
        "id": "EN1XLtTcWHKi"
      },
      "source": [
        "<hr>\n"
      ]
    },
    {
      "cell_type": "markdown",
      "metadata": {
        "id": "Gck7a-EAWHKi"
      },
      "source": [
        "## Hands on Lab\n"
      ]
    },
    {
      "cell_type": "markdown",
      "metadata": {
        "id": "7e0c0bAOWHKi"
      },
      "source": [
        "Import pandas module.\n"
      ]
    },
    {
      "cell_type": "code",
      "execution_count": null,
      "metadata": {
        "id": "Wzon_t4wWHKj"
      },
      "outputs": [],
      "source": [
        "import pandas as pd"
      ]
    },
    {
      "cell_type": "markdown",
      "metadata": {
        "id": "BPohIbSxWHKk"
      },
      "source": [
        "Load the dataset into a dataframe.\n"
      ]
    },
    {
      "cell_type": "code",
      "execution_count": null,
      "metadata": {
        "id": "JePj8-BOWHKk"
      },
      "outputs": [],
      "source": [
        "df = pd.read_csv(\"https://cf-courses-data.s3.us.cloud-object-storage.appdomain.cloud/IBM-DA0321EN-SkillsNetwork/LargeData/m1_survey_data.csv\")"
      ]
    },
    {
      "cell_type": "markdown",
      "metadata": {
        "id": "7j0Mqu9rWHKl"
      },
      "source": [
        "## Finding duplicates\n"
      ]
    },
    {
      "cell_type": "markdown",
      "metadata": {
        "id": "ZLZP1YmlWHKl"
      },
      "source": [
        "In this section you will identify duplicate values in the dataset.\n"
      ]
    },
    {
      "cell_type": "markdown",
      "metadata": {
        "id": "jW5H2tQeWHKl"
      },
      "source": [
        " Find how many duplicate rows exist in the dataframe.\n"
      ]
    },
    {
      "cell_type": "code",
      "execution_count": null,
      "metadata": {
        "colab": {
          "base_uri": "https://localhost:8080/"
        },
        "id": "QZeWJTKKWHKm",
        "outputId": "60ba3d99-97fe-4cad-caf3-adf63b70db23"
      },
      "outputs": [
        {
          "output_type": "stream",
          "name": "stdout",
          "text": [
            "The number of duplicate rows in the dataset is: 154\n"
          ]
        }
      ],
      "source": [
        "# your code goes here\n",
        "\n",
        "import pandas as pd\n",
        "\n",
        "# The dataset is available at the following URL\n",
        "dataset_url = \"https://cf-courses-data.s3.us.cloud-object-storage.appdomain.cloud/IBM-DA0321EN-SkillsNetwork/LargeData/m1_survey_data.csv\"\n",
        "\n",
        "# Load the data into a DataFrame\n",
        "df = pd.read_csv(dataset_url)\n",
        "\n",
        "# Find the number of duplicate rows\n",
        "num_duplicate_rows = df.duplicated().sum()\n",
        "\n",
        "# Print the number of duplicate rows\n",
        "print(f\"The number of duplicate rows in the dataset is: {num_duplicate_rows}\")\n"
      ]
    },
    {
      "cell_type": "code",
      "source": [
        "# Duplicate values in \"Respondent\" column\n",
        "\n",
        "import pandas as pd\n",
        "\n",
        "# The dataset is available at the following URL\n",
        "dataset_url = \"https://cf-courses-data.s3.us.cloud-object-storage.appdomain.cloud/IBM-DA0321EN-SkillsNetwork/LargeData/m1_survey_data.csv\"\n",
        "\n",
        "# Load the data into a DataFrame\n",
        "df = pd.read_csv(dataset_url)\n",
        "\n",
        "# Find the number of duplicate values in the 'Respondent' column\n",
        "num_duplicate_respondent = df['Respondent'].duplicated().sum()\n",
        "\n",
        "# Print the number of duplicate values in the 'Respondent' column\n",
        "print(f\"The number of duplicate values in the 'Respondent' column is: {num_duplicate_respondent}\")\n"
      ],
      "metadata": {
        "colab": {
          "base_uri": "https://localhost:8080/"
        },
        "id": "_FC8Of-lbF6v",
        "outputId": "775da833-a9ca-4e81-cfb3-258d7ffffe51"
      },
      "execution_count": null,
      "outputs": [
        {
          "output_type": "stream",
          "name": "stdout",
          "text": [
            "The number of duplicate values in the 'Respondent' column is: 154\n"
          ]
        }
      ]
    },
    {
      "cell_type": "markdown",
      "metadata": {
        "id": "blpMIgDRWHKm"
      },
      "source": [
        "## Removing duplicates\n"
      ]
    },
    {
      "cell_type": "markdown",
      "metadata": {
        "id": "Oma8OaK9WHKm"
      },
      "source": [
        "Remove the duplicate rows from the dataframe.\n"
      ]
    },
    {
      "cell_type": "code",
      "execution_count": null,
      "metadata": {
        "colab": {
          "base_uri": "https://localhost:8080/"
        },
        "id": "2Mf1EknRWHKm",
        "outputId": "2655d9b5-f3d2-4f7a-f423-206bd264d876"
      },
      "outputs": [
        {
          "output_type": "stream",
          "name": "stdout",
          "text": [
            "The number of duplicate rows before removing them: 154\n",
            "The number of duplicate rows after removing them: 0\n"
          ]
        }
      ],
      "source": [
        "# your code goes here\n",
        "\n",
        "import pandas as pd\n",
        "\n",
        "# The dataset is available at the following URL\n",
        "dataset_url = \"https://cf-courses-data.s3.us.cloud-object-storage.appdomain.cloud/IBM-DA0321EN-SkillsNetwork/LargeData/m1_survey_data.csv\"\n",
        "\n",
        "# Load the data into a DataFrame\n",
        "df = pd.read_csv(dataset_url)\n",
        "\n",
        "# Find the number of duplicate rows before removing them\n",
        "num_duplicate_rows_before = df.duplicated().sum()\n",
        "print(f\"The number of duplicate rows before removing them: {num_duplicate_rows_before}\")\n",
        "\n",
        "# Remove duplicate rows\n",
        "df_cleaned = df.drop_duplicates()\n",
        "\n",
        "# Find the number of duplicate rows after removing them\n",
        "num_duplicate_rows_after = df_cleaned.duplicated().sum()\n",
        "print(f\"The number of duplicate rows after removing them: {num_duplicate_rows_after}\")\n"
      ]
    },
    {
      "cell_type": "markdown",
      "metadata": {
        "id": "T4vXJ83lWHKm"
      },
      "source": [
        "Verify if duplicates were actually dropped.\n"
      ]
    },
    {
      "cell_type": "code",
      "execution_count": 2,
      "metadata": {
        "colab": {
          "base_uri": "https://localhost:8080/"
        },
        "id": "0MuWFPUuWHKm",
        "outputId": "a8b965ab-787d-4138-8bb4-e632f0415713"
      },
      "outputs": [
        {
          "output_type": "stream",
          "name": "stdout",
          "text": [
            "Number of rows before removing duplicates: 11552\n",
            "Number of rows after removing duplicates: 11398\n",
            "Duplicates were successfully removed.\n"
          ]
        }
      ],
      "source": [
        "# your code goes here\n",
        "\n",
        "import pandas as pd\n",
        "\n",
        "# The dataset is available at the following URL\n",
        "dataset_url = \"https://cf-courses-data.s3.us.cloud-object-storage.appdomain.cloud/IBM-DA0321EN-SkillsNetwork/LargeData/m1_survey_data.csv\"\n",
        "\n",
        "# Load the data into a DataFrame\n",
        "df = pd.read_csv(dataset_url)\n",
        "\n",
        "# Print the number of rows before removing duplicates\n",
        "num_rows_before = df.shape[0]\n",
        "print(f\"Number of rows before removing duplicates: {num_rows_before}\")\n",
        "\n",
        "# Remove duplicate rows\n",
        "df_cleaned = df.drop_duplicates()\n",
        "\n",
        "# Print the number of rows after removing duplicates\n",
        "num_rows_after = df_cleaned.shape[0]\n",
        "print(f\"Number of rows after removing duplicates: {num_rows_after}\")\n",
        "\n",
        "# Check if duplicates were removed\n",
        "if num_rows_before > num_rows_after:\n",
        "    print(\"Duplicates were successfully removed.\")\n",
        "else:\n",
        "    print(\"No duplicates were found or removed.\")\n"
      ]
    },
    {
      "cell_type": "code",
      "source": [
        "# Unique rows in \"Respondent\" column\n",
        "\n",
        "import pandas as pd\n",
        "\n",
        "# The dataset is available at the following URL\n",
        "dataset_url = \"https://cf-courses-data.s3.us.cloud-object-storage.appdomain.cloud/IBM-DA0321EN-SkillsNetwork/LargeData/m1_survey_data.csv\"\n",
        "\n",
        "# Load the data into a DataFrame\n",
        "df = pd.read_csv(dataset_url)\n",
        "\n",
        "# Remove duplicate rows\n",
        "df_cleaned = df.drop_duplicates()\n",
        "\n",
        "# Count the unique values in the 'Respondent' column\n",
        "unique_respondents = df_cleaned['Respondent'].nunique()\n",
        "\n",
        "# Print the number of unique rows in the 'Respondent' column\n",
        "print(f\"The number of unique rows in the 'Respondent' column after removing duplicates is: {unique_respondents}\")\n"
      ],
      "metadata": {
        "colab": {
          "base_uri": "https://localhost:8080/"
        },
        "id": "ksc1aO8fd5lU",
        "outputId": "62e0b9f6-c2b8-4dc7-c913-9d50fd8f243b"
      },
      "execution_count": 4,
      "outputs": [
        {
          "output_type": "stream",
          "name": "stdout",
          "text": [
            "The number of unique rows in the 'Respondent' column after removing duplicates is: 11398\n"
          ]
        }
      ]
    },
    {
      "cell_type": "markdown",
      "metadata": {
        "id": "aikhiNjEWHKn"
      },
      "source": [
        "## Finding Missing values\n"
      ]
    },
    {
      "cell_type": "markdown",
      "metadata": {
        "id": "NhbGBSeMWHKn"
      },
      "source": [
        "Find the missing values for all columns.\n"
      ]
    },
    {
      "cell_type": "code",
      "execution_count": null,
      "metadata": {
        "colab": {
          "base_uri": "https://localhost:8080/"
        },
        "id": "6jQvJPHcWHKn",
        "outputId": "2923f466-facd-4c4c-f9a0-d7a279119cea"
      },
      "outputs": [
        {
          "output_type": "stream",
          "name": "stdout",
          "text": [
            "Missing values for all columns:\n",
            "Respondent        0\n",
            "MainBranch        0\n",
            "Hobbyist          0\n",
            "OpenSourcer       0\n",
            "OpenSource       81\n",
            "               ... \n",
            "Sexuality       547\n",
            "Ethnicity       683\n",
            "Dependents      144\n",
            "SurveyLength     19\n",
            "SurveyEase       14\n",
            "Length: 85, dtype: int64\n"
          ]
        }
      ],
      "source": [
        "# your code goes here\n",
        "\n",
        "import pandas as pd\n",
        "\n",
        "# The dataset is available at the following URL\n",
        "dataset_url = \"https://cf-courses-data.s3.us.cloud-object-storage.appdomain.cloud/IBM-DA0321EN-SkillsNetwork/LargeData/m1_survey_data.csv\"\n",
        "\n",
        "# Load the data into a DataFrame\n",
        "df = pd.read_csv(dataset_url)\n",
        "\n",
        "# Find the missing values for all columns\n",
        "missing_values = df.isnull().sum()\n",
        "\n",
        "# Print the missing values for all columns\n",
        "print(\"Missing values for all columns:\")\n",
        "print(missing_values)\n"
      ]
    },
    {
      "cell_type": "markdown",
      "metadata": {
        "id": "fcpWffxzWHKn"
      },
      "source": [
        "Find out how many rows are missing in the column 'WorkLoc'\n"
      ]
    },
    {
      "cell_type": "code",
      "execution_count": null,
      "metadata": {
        "colab": {
          "base_uri": "https://localhost:8080/"
        },
        "id": "GS553DRjWHKo",
        "outputId": "db503f75-d675-43e5-b1cc-11593ee26b46"
      },
      "outputs": [
        {
          "output_type": "stream",
          "name": "stdout",
          "text": [
            "The number of missing values in the 'WorkLoc' column is: 32\n"
          ]
        }
      ],
      "source": [
        "# your code goes here\n",
        "\n",
        "import pandas as pd\n",
        "\n",
        "# The dataset is available at the following URL\n",
        "dataset_url = \"https://cf-courses-data.s3.us.cloud-object-storage.appdomain.cloud/IBM-DA0321EN-SkillsNetwork/LargeData/m1_survey_data.csv\"\n",
        "\n",
        "# Load the data into a DataFrame\n",
        "df = pd.read_csv(dataset_url)\n",
        "\n",
        "# Find the number of missing values in the 'WorkLoc' column\n",
        "missing_workloc = df['WorkLoc'].isnull().sum()\n",
        "\n",
        "# Print the number of missing values in the 'WorkLoc' column\n",
        "print(f\"The number of missing values in the 'WorkLoc' column is: {missing_workloc}\")\n"
      ]
    },
    {
      "cell_type": "code",
      "source": [
        "# Blank rows are there under the column EdLevel\n",
        "\n",
        "import pandas as pd\n",
        "\n",
        "# The dataset is available at the following URL\n",
        "dataset_url = \"https://cf-courses-data.s3.us.cloud-object-storage.appdomain.cloud/IBM-DA0321EN-SkillsNetwork/LargeData/m1_survey_data.csv\"\n",
        "\n",
        "# Load the data into a DataFrame\n",
        "df = pd.read_csv(dataset_url)\n",
        "\n",
        "# Remove duplicate rows\n",
        "df_cleaned = df.drop_duplicates()\n",
        "\n",
        "# Find the number of blank (missing) rows in the 'EdLevel' column\n",
        "missing_edlevel = df_cleaned['EdLevel'].isnull().sum()\n",
        "\n",
        "# Print the number of blank rows in the 'EdLevel' column\n",
        "print(f\"The number of blank rows in the 'EdLevel' column after removing duplicates is: {missing_edlevel}\")\n"
      ],
      "metadata": {
        "colab": {
          "base_uri": "https://localhost:8080/"
        },
        "id": "d-whzvKte2qH",
        "outputId": "f94c47dd-c710-4394-8aa3-ee3a949d2f31"
      },
      "execution_count": 5,
      "outputs": [
        {
          "output_type": "stream",
          "name": "stdout",
          "text": [
            "The number of blank rows in the 'EdLevel' column after removing duplicates is: 112\n"
          ]
        }
      ]
    },
    {
      "cell_type": "code",
      "source": [
        "# Missing rows are under the column Country\n",
        "\n",
        "import pandas as pd\n",
        "\n",
        "# The dataset is available at the following URL\n",
        "dataset_url = \"https://cf-courses-data.s3.us.cloud-object-storage.appdomain.cloud/IBM-DA0321EN-SkillsNetwork/LargeData/m1_survey_data.csv\"\n",
        "\n",
        "# Load the data into a DataFrame\n",
        "df = pd.read_csv(dataset_url)\n",
        "\n",
        "# Remove duplicate rows\n",
        "df_cleaned = df.drop_duplicates()\n",
        "\n",
        "# Find the number of missing (blank) rows in the 'Country' column\n",
        "missing_country = df_cleaned['Country'].isnull().sum()\n",
        "\n",
        "# Print the number of missing rows in the 'Country' column\n",
        "print(f\"The number of missing rows in the 'Country' column after removing duplicates is: {missing_country}\")\n"
      ],
      "metadata": {
        "colab": {
          "base_uri": "https://localhost:8080/"
        },
        "id": "0j-IbmzhfBrg",
        "outputId": "a5d437cc-e55f-442b-fd21-9d3662a7292c"
      },
      "execution_count": 6,
      "outputs": [
        {
          "output_type": "stream",
          "name": "stdout",
          "text": [
            "The number of missing rows in the 'Country' column after removing duplicates is: 0\n"
          ]
        }
      ]
    },
    {
      "cell_type": "markdown",
      "metadata": {
        "id": "3zaCyGQaWHKo"
      },
      "source": [
        "## Imputing missing values\n"
      ]
    },
    {
      "cell_type": "markdown",
      "metadata": {
        "id": "lrFq9ozUWHKo"
      },
      "source": [
        "Find the  value counts for the column WorkLoc.\n"
      ]
    },
    {
      "cell_type": "code",
      "execution_count": null,
      "metadata": {
        "colab": {
          "base_uri": "https://localhost:8080/"
        },
        "id": "Jc2HTG_FWHKp",
        "outputId": "89571127-c282-492e-a41a-e5f0c0d810e3"
      },
      "outputs": [
        {
          "output_type": "stream",
          "name": "stdout",
          "text": [
            "Value counts for the 'WorkLoc' column:\n",
            "WorkLoc\n",
            "Office                                            6905\n",
            "Home                                              3638\n",
            "Other place, such as a coworking space or cafe     977\n",
            "Name: count, dtype: int64\n"
          ]
        }
      ],
      "source": [
        "# your code goes here\n",
        "\n",
        "import pandas as pd\n",
        "\n",
        "# The dataset is available at the following URL\n",
        "dataset_url = \"https://cf-courses-data.s3.us.cloud-object-storage.appdomain.cloud/IBM-DA0321EN-SkillsNetwork/LargeData/m1_survey_data.csv\"\n",
        "\n",
        "# Load the data into a DataFrame\n",
        "df = pd.read_csv(dataset_url)\n",
        "\n",
        "# Find the value counts for the 'WorkLoc' column\n",
        "workloc_value_counts = df['WorkLoc'].value_counts()\n",
        "\n",
        "# Print the value counts for the 'WorkLoc' column\n",
        "print(\"Value counts for the 'WorkLoc' column:\")\n",
        "print(workloc_value_counts)\n"
      ]
    },
    {
      "cell_type": "markdown",
      "metadata": {
        "id": "5meWOGjiWHKp"
      },
      "source": [
        "Identify the value that is most frequent (majority) in the WorkLoc column.\n"
      ]
    },
    {
      "cell_type": "code",
      "execution_count": null,
      "metadata": {
        "colab": {
          "base_uri": "https://localhost:8080/"
        },
        "id": "9lRF37K6WHKq",
        "outputId": "ebeb62bc-7ead-4c3c-bd80-0f05f3165947"
      },
      "outputs": [
        {
          "output_type": "stream",
          "name": "stdout",
          "text": [
            "The most frequent value in the 'WorkLoc' column is: Office\n"
          ]
        }
      ],
      "source": [
        "#make a note of the majority value here, for future reference\n",
        "#\n",
        "\n",
        "import pandas as pd\n",
        "\n",
        "# The dataset is available at the following URL\n",
        "dataset_url = \"https://cf-courses-data.s3.us.cloud-object-storage.appdomain.cloud/IBM-DA0321EN-SkillsNetwork/LargeData/m1_survey_data.csv\"\n",
        "\n",
        "# Load the data into a DataFrame\n",
        "df = pd.read_csv(dataset_url)\n",
        "\n",
        "# Find the value that is most frequent in the 'WorkLoc' column\n",
        "most_frequent_workloc = df['WorkLoc'].mode()[0]\n",
        "\n",
        "# Print the most frequent value in the 'WorkLoc' column\n",
        "print(f\"The most frequent value in the 'WorkLoc' column is: {most_frequent_workloc}\")\n"
      ]
    },
    {
      "cell_type": "markdown",
      "metadata": {
        "id": "wplIyZrbWHKs"
      },
      "source": [
        "Impute (replace) all the empty rows in the column WorkLoc with the value that you have identified as majority.\n"
      ]
    },
    {
      "cell_type": "code",
      "execution_count": null,
      "metadata": {
        "colab": {
          "base_uri": "https://localhost:8080/"
        },
        "id": "k4uhtlWKWHKs",
        "outputId": "391c6dcb-1fcb-482f-f3d4-7568e8d46e1e"
      },
      "outputs": [
        {
          "output_type": "stream",
          "name": "stdout",
          "text": [
            "The number of missing values in the 'WorkLoc' column after imputation: 0\n",
            "   Respondent                      MainBranch Hobbyist  \\\n",
            "0           4  I am a developer by profession       No   \n",
            "1           9  I am a developer by profession      Yes   \n",
            "2          13  I am a developer by profession      Yes   \n",
            "3          16  I am a developer by profession      Yes   \n",
            "4          17  I am a developer by profession      Yes   \n",
            "\n",
            "                                         OpenSourcer  \\\n",
            "0                                              Never   \n",
            "1                         Once a month or more often   \n",
            "2  Less than once a month but more than once per ...   \n",
            "3                                              Never   \n",
            "4  Less than once a month but more than once per ...   \n",
            "\n",
            "                                          OpenSource          Employment  \\\n",
            "0  The quality of OSS and closed source software ...  Employed full-time   \n",
            "1  The quality of OSS and closed source software ...  Employed full-time   \n",
            "2  OSS is, on average, of HIGHER quality than pro...  Employed full-time   \n",
            "3  The quality of OSS and closed source software ...  Employed full-time   \n",
            "4  The quality of OSS and closed source software ...  Employed full-time   \n",
            "\n",
            "          Country Student                                            EdLevel  \\\n",
            "0   United States      No           Bachelor’s degree (BA, BS, B.Eng., etc.)   \n",
            "1     New Zealand      No  Some college/university study without earning ...   \n",
            "2   United States      No        Master’s degree (MA, MS, M.Eng., MBA, etc.)   \n",
            "3  United Kingdom      No        Master’s degree (MA, MS, M.Eng., MBA, etc.)   \n",
            "4       Australia      No           Bachelor’s degree (BA, BS, B.Eng., etc.)   \n",
            "\n",
            "                                      UndergradMajor  ...  \\\n",
            "0  Computer science, computer engineering, or sof...  ...   \n",
            "1  Computer science, computer engineering, or sof...  ...   \n",
            "2  Computer science, computer engineering, or sof...  ...   \n",
            "3                                                NaN  ...   \n",
            "4  Computer science, computer engineering, or sof...  ...   \n",
            "\n",
            "                              WelcomeChange  \\\n",
            "0   Just as welcome now as I felt last year   \n",
            "1   Just as welcome now as I felt last year   \n",
            "2  Somewhat more welcome now than last year   \n",
            "3   Just as welcome now as I felt last year   \n",
            "4   Just as welcome now as I felt last year   \n",
            "\n",
            "                                        SONewContent   Age Gender Trans  \\\n",
            "0  Tech articles written by other developers;Indu...  22.0    Man    No   \n",
            "1                                                NaN  23.0    Man    No   \n",
            "2  Tech articles written by other developers;Cour...  28.0    Man    No   \n",
            "3  Tech articles written by other developers;Indu...  26.0    Man    No   \n",
            "4  Tech articles written by other developers;Indu...  29.0    Man    No   \n",
            "\n",
            "                 Sexuality                              Ethnicity Dependents  \\\n",
            "0  Straight / Heterosexual           White or of European descent         No   \n",
            "1                 Bisexual           White or of European descent         No   \n",
            "2  Straight / Heterosexual           White or of European descent        Yes   \n",
            "3  Straight / Heterosexual           White or of European descent         No   \n",
            "4  Straight / Heterosexual  Hispanic or Latino/Latina;Multiracial         No   \n",
            "\n",
            "            SurveyLength                  SurveyEase  \n",
            "0  Appropriate in length                        Easy  \n",
            "1  Appropriate in length  Neither easy nor difficult  \n",
            "2  Appropriate in length                        Easy  \n",
            "3  Appropriate in length  Neither easy nor difficult  \n",
            "4  Appropriate in length                        Easy  \n",
            "\n",
            "[5 rows x 85 columns]\n"
          ]
        }
      ],
      "source": [
        "# your code goes here\n",
        "\n",
        "import pandas as pd\n",
        "\n",
        "# The dataset is available at the following URL\n",
        "dataset_url = \"https://cf-courses-data.s3.us.cloud-object-storage.appdomain.cloud/IBM-DA0321EN-SkillsNetwork/LargeData/m1_survey_data.csv\"\n",
        "\n",
        "# Load the data into a DataFrame\n",
        "df = pd.read_csv(dataset_url)\n",
        "\n",
        "# Identify the most frequent value in the 'WorkLoc' column\n",
        "most_frequent_workloc = df['WorkLoc'].mode()[0]\n",
        "\n",
        "# Replace all missing values in the 'WorkLoc' column with the most frequent value\n",
        "df['WorkLoc'] = df['WorkLoc'].fillna(most_frequent_workloc)\n",
        "\n",
        "# Verify if there are any more missing values in the 'WorkLoc' column\n",
        "missing_workloc_after = df['WorkLoc'].isnull().sum()\n",
        "print(f\"The number of missing values in the 'WorkLoc' column after imputation: {missing_workloc_after}\")\n",
        "\n",
        "# Optional: Display the first few rows of the dataframe to verify the changes\n",
        "print(df.head())\n"
      ]
    },
    {
      "cell_type": "markdown",
      "metadata": {
        "id": "AqJTRsJYWHKt"
      },
      "source": [
        "After imputation there should ideally not be any empty rows in the WorkLoc column.\n"
      ]
    },
    {
      "cell_type": "markdown",
      "metadata": {
        "id": "GqZi6c19WHKt"
      },
      "source": [
        "Verify if imputing was successful.\n"
      ]
    },
    {
      "cell_type": "code",
      "execution_count": null,
      "metadata": {
        "colab": {
          "base_uri": "https://localhost:8080/"
        },
        "id": "x6DRpHd6WHKt",
        "outputId": "a88743d9-edc4-426c-943b-4c2a49549121"
      },
      "outputs": [
        {
          "output_type": "stream",
          "name": "stdout",
          "text": [
            "The number of missing values in the 'WorkLoc' column after imputation: 0\n",
            "Imputation was successful. There are no missing values in the 'WorkLoc' column.\n"
          ]
        }
      ],
      "source": [
        "# your code goes here\n",
        "\n",
        "import pandas as pd\n",
        "\n",
        "# The dataset is available at the following URL\n",
        "dataset_url = \"https://cf-courses-data.s3.us.cloud-object-storage.appdomain.cloud/IBM-DA0321EN-SkillsNetwork/LargeData/m1_survey_data.csv\"\n",
        "\n",
        "# Load the data into a DataFrame\n",
        "df = pd.read_csv(dataset_url)\n",
        "\n",
        "# Identify the most frequent value in the 'WorkLoc' column\n",
        "most_frequent_workloc = df['WorkLoc'].mode()[0]\n",
        "\n",
        "# Replace all missing values in the 'WorkLoc' column with the most frequent value\n",
        "df['WorkLoc'] = df['WorkLoc'].fillna(most_frequent_workloc)\n",
        "\n",
        "# Verify if there are any missing values in the 'WorkLoc' column after imputation\n",
        "missing_workloc_after = df['WorkLoc'].isnull().sum()\n",
        "print(f\"The number of missing values in the 'WorkLoc' column after imputation: {missing_workloc_after}\")\n",
        "\n",
        "# Check if any values remain missing\n",
        "if missing_workloc_after == 0:\n",
        "    print(\"Imputation was successful. There are no missing values in the 'WorkLoc' column.\")\n",
        "else:\n",
        "    print(\"Imputation was not fully successful. There are still missing values in the 'WorkLoc' column.\")\n"
      ]
    },
    {
      "cell_type": "code",
      "source": [
        "# Majority category under the column Employment\n",
        "\n",
        "import pandas as pd\n",
        "\n",
        "# The dataset is available at the following URL\n",
        "dataset_url = \"https://cf-courses-data.s3.us.cloud-object-storage.appdomain.cloud/IBM-DA0321EN-SkillsNetwork/LargeData/m1_survey_data.csv\"\n",
        "\n",
        "# Load the data into a DataFrame\n",
        "df = pd.read_csv(dataset_url)\n",
        "\n",
        "# Find the majority category in the 'Employment' column\n",
        "majority_employment = df['Employment'].mode()[0]\n",
        "\n",
        "# Print the majority category in the 'Employment' column\n",
        "print(f\"The majority category in the 'Employment' column is: {majority_employment}\")\n"
      ],
      "metadata": {
        "colab": {
          "base_uri": "https://localhost:8080/"
        },
        "id": "Xl173W71ftFT",
        "outputId": "3d9e18d0-ad40-4722-e812-7cefbcdd0b06"
      },
      "execution_count": 7,
      "outputs": [
        {
          "output_type": "stream",
          "name": "stdout",
          "text": [
            "The majority category in the 'Employment' column is: Employed full-time\n"
          ]
        }
      ]
    },
    {
      "cell_type": "code",
      "source": [
        "# What category has the minimum number of rows under the column \" UndergradMajor\"\n",
        "\n",
        "import pandas as pd\n",
        "\n",
        "# The dataset is available at the following URL\n",
        "dataset_url = \"https://cf-courses-data.s3.us.cloud-object-storage.appdomain.cloud/IBM-DA0321EN-SkillsNetwork/LargeData/m1_survey_data.csv\"\n",
        "\n",
        "# Load the data into a DataFrame\n",
        "df = pd.read_csv(dataset_url)\n",
        "\n",
        "# Find the category with the minimum number of rows in the 'UndergradMajor' column\n",
        "undergrad_major_counts = df['UndergradMajor'].value_counts()\n",
        "category_with_min_rows = undergrad_major_counts.idxmin()\n",
        "\n",
        "# Print the category with the minimum number of rows\n",
        "print(f\"The category with the minimum number of rows in the 'UndergradMajor' column is: {category_with_min_rows}\")\n"
      ],
      "metadata": {
        "colab": {
          "base_uri": "https://localhost:8080/"
        },
        "id": "T7WKLXJngDmL",
        "outputId": "feecd6f7-5c6d-4d72-92f2-d85f0a0014b4"
      },
      "execution_count": 8,
      "outputs": [
        {
          "output_type": "stream",
          "name": "stdout",
          "text": [
            "The category with the minimum number of rows in the 'UndergradMajor' column is: A health science (ex. nursing, pharmacy, radiology)\n"
          ]
        }
      ]
    },
    {
      "cell_type": "code",
      "source": [
        "# Best approach to impute the missing values in the column ‘ConvertedComp’ contains the annual compensation\n",
        "\n",
        "import pandas as pd\n",
        "\n",
        "# The dataset is available at the following URL\n",
        "dataset_url = \"https://cf-courses-data.s3.us.cloud-object-storage.appdomain.cloud/IBM-DA0321EN-SkillsNetwork/LargeData/m1_survey_data.csv\"\n",
        "\n",
        "# Load the data into a DataFrame\n",
        "df = pd.read_csv(dataset_url)\n",
        "\n",
        "# Calculate the median of the 'ConvertedComp' column\n",
        "median_converted_comp = df['ConvertedComp'].median()\n",
        "\n",
        "# Impute missing values in the 'ConvertedComp' column with the median\n",
        "df['ConvertedComp'] = df['ConvertedComp'].fillna(median_converted_comp)\n",
        "\n",
        "# Verify the imputation\n",
        "missing_converted_comp_after = df['ConvertedComp'].isnull().sum()\n",
        "print(f\"The number of missing values in the 'ConvertedComp' column after imputation: {missing_converted_comp_after}\")\n"
      ],
      "metadata": {
        "colab": {
          "base_uri": "https://localhost:8080/"
        },
        "id": "imvFArh1gaPs",
        "outputId": "a4842186-f96d-44b3-ef95-7837a2d4a123"
      },
      "execution_count": 10,
      "outputs": [
        {
          "output_type": "stream",
          "name": "stdout",
          "text": [
            "The number of missing values in the 'ConvertedComp' column after imputation: 0\n"
          ]
        }
      ]
    },
    {
      "cell_type": "markdown",
      "metadata": {
        "id": "7CN297ceWHKt"
      },
      "source": [
        "## Normalizing data\n"
      ]
    },
    {
      "cell_type": "markdown",
      "metadata": {
        "id": "oIf4XI-NWHKt"
      },
      "source": [
        "There are two columns in the dataset that talk about compensation.\n",
        "\n",
        "One is \"CompFreq\". This column shows how often a developer is paid (Yearly, Monthly, Weekly).\n",
        "\n",
        "The other is \"CompTotal\". This column talks about how much the developer is paid per Year, Month, or Week depending upon his/her \"CompFreq\".\n",
        "\n",
        "This makes it difficult to compare the total compensation of the developers.\n",
        "\n",
        "In this section you will create a new column called 'NormalizedAnnualCompensation' which contains the 'Annual Compensation' irrespective of the 'CompFreq'.\n",
        "\n",
        "Once this column is ready, it makes comparison of salaries easy.\n"
      ]
    },
    {
      "cell_type": "markdown",
      "metadata": {
        "id": "k6XgP7sOWHK4"
      },
      "source": [
        "<hr>\n"
      ]
    },
    {
      "cell_type": "markdown",
      "metadata": {
        "id": "tZZLdhsjWHK5"
      },
      "source": [
        "List out the various categories in the column 'CompFreq'\n"
      ]
    },
    {
      "cell_type": "code",
      "execution_count": null,
      "metadata": {
        "colab": {
          "base_uri": "https://localhost:8080/"
        },
        "id": "5q4EeMKYWHK6",
        "outputId": "d5f759d5-64c4-4060-90d2-bb2f7f63f43d"
      },
      "outputs": [
        {
          "output_type": "stream",
          "name": "stdout",
          "text": [
            "Categories in the 'CompFreq' column:\n",
            "['Yearly' 'Monthly' 'Weekly' nan]\n"
          ]
        }
      ],
      "source": [
        "# your code goes here\n",
        "\n",
        "import pandas as pd\n",
        "\n",
        "# The dataset is available at the following URL\n",
        "dataset_url = \"https://cf-courses-data.s3.us.cloud-object-storage.appdomain.cloud/IBM-DA0321EN-SkillsNetwork/LargeData/m1_survey_data.csv\"\n",
        "\n",
        "# Load the data into a DataFrame\n",
        "df = pd.read_csv(dataset_url)\n",
        "\n",
        "# List the unique categories in the 'CompFreq' column\n",
        "compfreq_categories = df['CompFreq'].unique()\n",
        "\n",
        "# Print the unique categories\n",
        "print(\"Categories in the 'CompFreq' column:\")\n",
        "print(compfreq_categories)\n"
      ]
    },
    {
      "cell_type": "code",
      "source": [
        "# Unique values are there in the CompFreq column\n",
        "\n",
        "import pandas as pd\n",
        "\n",
        "# The dataset is available at the following URL\n",
        "dataset_url = \"https://cf-courses-data.s3.us.cloud-object-storage.appdomain.cloud/IBM-DA0321EN-SkillsNetwork/LargeData/m1_survey_data.csv\"\n",
        "\n",
        "# Load the data into a DataFrame\n",
        "df = pd.read_csv(dataset_url)\n",
        "\n",
        "# Find the number of unique values in the 'CompFreq' column\n",
        "unique_compfreq_values = df['CompFreq'].nunique()\n",
        "\n",
        "# Print the number of unique values in the 'CompFreq' column\n",
        "print(f\"The number of unique values in the 'CompFreq' column is: {unique_compfreq_values}\")\n"
      ],
      "metadata": {
        "colab": {
          "base_uri": "https://localhost:8080/"
        },
        "id": "x0rZg1ARhcJ2",
        "outputId": "c107e5c1-1875-4f7e-f57d-fe1941462685"
      },
      "execution_count": 11,
      "outputs": [
        {
          "output_type": "stream",
          "name": "stdout",
          "text": [
            "The number of unique values in the 'CompFreq' column is: 3\n"
          ]
        }
      ]
    },
    {
      "cell_type": "code",
      "source": [
        "# Respondents are being paid yearly after removing the duplicate rows\n",
        "\n",
        "import pandas as pd\n",
        "\n",
        "# The dataset is available at the following URL\n",
        "dataset_url = \"https://cf-courses-data.s3.us.cloud-object-storage.appdomain.cloud/IBM-DA0321EN-SkillsNetwork/LargeData/m1_survey_data.csv\"\n",
        "\n",
        "# Load the data into a DataFrame\n",
        "df = pd.read_csv(dataset_url)\n",
        "\n",
        "# Remove duplicate rows\n",
        "df_cleaned = df.drop_duplicates()\n",
        "\n",
        "# Count the number of respondents being paid yearly\n",
        "num_yearly_paid = df_cleaned[df_cleaned['CompFreq'] == 'Yearly']['Respondent'].nunique()\n",
        "\n",
        "# Print the number of respondents being paid yearly\n",
        "print(f\"The number of respondents being paid yearly after removing duplicates is: {num_yearly_paid}\")\n"
      ],
      "metadata": {
        "colab": {
          "base_uri": "https://localhost:8080/"
        },
        "id": "joDKRWGghv8U",
        "outputId": "9555ffb5-fe57-46f2-cb1f-d0abae49f35e"
      },
      "execution_count": 12,
      "outputs": [
        {
          "output_type": "stream",
          "name": "stdout",
          "text": [
            "The number of respondents being paid yearly after removing duplicates is: 6073\n"
          ]
        }
      ]
    },
    {
      "cell_type": "markdown",
      "metadata": {
        "id": "eOfSbEdgWHK6"
      },
      "source": [
        "Create a new column named 'NormalizedAnnualCompensation'. Use the hint given below if needed.\n"
      ]
    },
    {
      "cell_type": "markdown",
      "metadata": {
        "id": "kKXfoQrIWHK7"
      },
      "source": [
        "Double click to see the **Hint**.\n",
        "\n",
        "<!--\n",
        "\n",
        "Use the below logic to arrive at the values for the column NormalizedAnnualCompensation.\n",
        "\n",
        "If the CompFreq is Yearly then use the exising value in CompTotal\n",
        "If the CompFreq is Monthly then multiply the value in CompTotal with 12 (months in an year)\n",
        "If the CompFreq is Weekly then multiply the value in CompTotal with 52 (weeks in an year)\n",
        "\n",
        "-->\n"
      ]
    },
    {
      "cell_type": "code",
      "execution_count": null,
      "metadata": {
        "colab": {
          "base_uri": "https://localhost:8080/"
        },
        "id": "WEzMK7jbWHK7",
        "outputId": "eb8a7b58-eb25-4763-f94a-d23eefb1c6ed"
      },
      "outputs": [
        {
          "output_type": "stream",
          "name": "stdout",
          "text": [
            "  CompFreq  CompTotal  NormalizedAnnualCompensation\n",
            "0   Yearly    61000.0                       61000.0\n",
            "1   Yearly   138000.0                      138000.0\n",
            "2   Yearly    90000.0                       90000.0\n",
            "3  Monthly    29000.0                      348000.0\n",
            "4   Yearly    90000.0                       90000.0\n"
          ]
        }
      ],
      "source": [
        "# your code goes here\n",
        "\n",
        "import pandas as pd\n",
        "\n",
        "# The dataset is available at the following URL\n",
        "dataset_url = \"https://cf-courses-data.s3.us.cloud-object-storage.appdomain.cloud/IBM-DA0321EN-SkillsNetwork/LargeData/m1_survey_data.csv\"\n",
        "\n",
        "# Load the data into a DataFrame\n",
        "df = pd.read_csv(dataset_url)\n",
        "\n",
        "# Define a function to normalize the compensation\n",
        "def normalize_compensation(row):\n",
        "    if row['CompFreq'] == 'Yearly':\n",
        "        return row['CompTotal']\n",
        "    elif row['CompFreq'] == 'Monthly':\n",
        "        return row['CompTotal'] * 12\n",
        "    elif row['CompFreq'] == 'Weekly':\n",
        "        return row['CompTotal'] * 52\n",
        "    else:\n",
        "        return None\n",
        "\n",
        "# Apply the function to create the 'NormalizedAnnualCompensation' column\n",
        "df['NormalizedAnnualCompensation'] = df.apply(normalize_compensation, axis=1)\n",
        "\n",
        "# Display the first few rows of the DataFrame to verify the new column\n",
        "print(df[['CompFreq', 'CompTotal', 'NormalizedAnnualCompensation']].head())\n"
      ]
    },
    {
      "cell_type": "code",
      "source": [
        "#\n",
        "\n",
        "import pandas as pd\n",
        "\n",
        "# The dataset is available at the following URL\n",
        "dataset_url = \"https://cf-courses-data.s3.us.cloud-object-storage.appdomain.cloud/IBM-DA0321EN-SkillsNetwork/LargeData/m1_survey_data.csv\"\n",
        "\n",
        "# Load the data into a DataFrame\n",
        "df = pd.read_csv(dataset_url)\n",
        "\n",
        "# Define a function to normalize the compensation\n",
        "def normalize_compensation(row):\n",
        "    if row['CompFreq'] == 'Yearly':\n",
        "        return row['CompTotal']\n",
        "    elif row['CompFreq'] == 'Monthly':\n",
        "        return row['CompTotal'] * 12\n",
        "    elif row['CompFreq'] == 'Weekly':\n",
        "        return row['CompTotal'] * 52\n",
        "    else:\n",
        "        return None\n",
        "\n",
        "# Apply the function to create the 'NormalizedAnnualCompensation' column\n",
        "df['NormalizedAnnualCompensation'] = df.apply(normalize_compensation, axis=1)\n",
        "\n",
        "# Calculate the median of the 'NormalizedAnnualCompensation' column\n",
        "median_normalized_annual_compensation = df['NormalizedAnnualCompensation'].median()\n",
        "\n",
        "# Print the median\n",
        "print(f\"The median Normalized Annual Compensation is: {median_normalized_annual_compensation}\")\n"
      ],
      "metadata": {
        "colab": {
          "base_uri": "https://localhost:8080/"
        },
        "id": "V06Tkh1LiMby",
        "outputId": "0ca2b193-3dca-465b-ac5e-057a09c15116"
      },
      "execution_count": 13,
      "outputs": [
        {
          "output_type": "stream",
          "name": "stdout",
          "text": [
            "The median Normalized Annual Compensation is: 100000.0\n"
          ]
        }
      ]
    },
    {
      "cell_type": "markdown",
      "metadata": {
        "id": "XOWFl8SfWHK8"
      },
      "source": [
        "## Authors\n"
      ]
    },
    {
      "cell_type": "markdown",
      "metadata": {
        "id": "bzGZ1A2rWHK8"
      },
      "source": [
        "Ramesh Sannareddy\n"
      ]
    },
    {
      "cell_type": "markdown",
      "metadata": {
        "id": "3bfa-_5VWHK8"
      },
      "source": [
        "### Other Contributors\n"
      ]
    },
    {
      "cell_type": "markdown",
      "metadata": {
        "id": "JiuMGX4nWHK8"
      },
      "source": [
        "Rav Ahuja\n"
      ]
    },
    {
      "cell_type": "markdown",
      "metadata": {
        "id": "TLF_wOixWHK9"
      },
      "source": [
        "## Change Log\n"
      ]
    },
    {
      "cell_type": "markdown",
      "metadata": {
        "id": "wYyXf3uvWHK9"
      },
      "source": [
        "| Date (YYYY-MM-DD) | Version | Changed By        | Change Description                 |\n",
        "| ----------------- | ------- | ----------------- | ---------------------------------- |\n",
        "| 2020-10-17        | 0.1     | Ramesh Sannareddy | Created initial version of the lab |\n"
      ]
    },
    {
      "cell_type": "markdown",
      "metadata": {
        "id": "6QnsGCO0WHK9"
      },
      "source": [
        " Copyright © 2020 IBM Corporation. This notebook and its source code are released under the terms of the [MIT License](https://cognitiveclass.ai/mit-license?utm_medium=Exinfluencer&utm_source=Exinfluencer&utm_content=000026UJ&utm_term=10006555&utm_id=NA-SkillsNetwork-Channel-SkillsNetworkCoursesIBMDA0321ENSkillsNetwork928-2022-01-01&cm_mmc=Email_Newsletter-_-Developer_Ed%2BTech-_-WW_WW-_-SkillsNetwork-Courses-IBM-DA0321EN-SkillsNetwork-21426264&cm_mmca1=000026UJ&cm_mmca2=10006555&cm_mmca3=M12345678&cvosrc=email.Newsletter.M12345678&cvo_campaign=000026UJ).\n"
      ]
    }
  ],
  "metadata": {
    "kernelspec": {
      "display_name": "Python",
      "language": "python",
      "name": "conda-env-python-py"
    },
    "language_info": {
      "name": ""
    },
    "colab": {
      "provenance": []
    }
  },
  "nbformat": 4,
  "nbformat_minor": 0
}